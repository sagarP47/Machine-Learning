{
 "cells": [
  {
   "cell_type": "markdown",
   "metadata": {},
   "source": [
    "This is the second tutorial. In this tutorial, you need to do the following things\n",
    "\n",
    "1. Download the data from <a href=\"https://www.dropbox.com/s/y32w0bqq1o1rmsr/Wholesale%20customers%20data.csv?dl=0\">here</a> and store it in your computer\n",
    "2. Find out mean of all the variables except for \"Channel\" and \"Region\"\n",
    "3. Mind out median of all the variables (except for \"Channel\" and \"Region\") and calculate the difference between mean and median programmatically.\n",
    "4. Define a user defined function which can take a data frame having all numeric values and can send out IQR values of all the variables. Test the function on the dataset you have downloaded\n",
    "5. Find out the function **MinCovDet** within sklearn and using it find out the robust Mahalanobis distance between the point (10000,10000,10000,10000,10000,10000) and the first row of the downloaded dataset after discarding \"Channel\" and \"Region\"\n",
    "6. Run PCA on the 6 numeric variables (except \"Channel\" and \"Region\") and decide how many components you would like to retain.\n",
    "7. As you have already extracted median values of the 6 items, extract robust Mahalanobis distance of each sample from the median (i.e. a datapoint containing the 6 medians). How many outliers can you see?\n",
    "8. Try to remove the outliers and then run kmeans clustering on the remaining data points. "
   ]
  },
  {
   "cell_type": "code",
   "execution_count": 1,
   "metadata": {
    "collapsed": true
   },
   "outputs": [],
   "source": [
    "import numpy as np\n",
    "import pandas as pd\n",
    "from sklearn.covariance import MinCovDet \n"
   ]
  },
  {
   "cell_type": "code",
   "execution_count": 8,
   "metadata": {},
   "outputs": [
    {
     "name": "stdout",
     "output_type": "stream",
     "text": [
      "(440, 8)\n"
     ]
    },
    {
     "data": {
      "text/html": [
       "<div>\n",
       "<style>\n",
       "    .dataframe thead tr:only-child th {\n",
       "        text-align: right;\n",
       "    }\n",
       "\n",
       "    .dataframe thead th {\n",
       "        text-align: left;\n",
       "    }\n",
       "\n",
       "    .dataframe tbody tr th {\n",
       "        vertical-align: top;\n",
       "    }\n",
       "</style>\n",
       "<table border=\"1\" class=\"dataframe\">\n",
       "  <thead>\n",
       "    <tr style=\"text-align: right;\">\n",
       "      <th></th>\n",
       "      <th>Channel</th>\n",
       "      <th>Region</th>\n",
       "      <th>Fresh</th>\n",
       "      <th>Milk</th>\n",
       "      <th>Grocery</th>\n",
       "      <th>Frozen</th>\n",
       "      <th>Detergents_Paper</th>\n",
       "      <th>Delicassen</th>\n",
       "    </tr>\n",
       "  </thead>\n",
       "  <tbody>\n",
       "    <tr>\n",
       "      <th>0</th>\n",
       "      <td>2</td>\n",
       "      <td>3</td>\n",
       "      <td>12669</td>\n",
       "      <td>9656</td>\n",
       "      <td>7561</td>\n",
       "      <td>214</td>\n",
       "      <td>2674</td>\n",
       "      <td>1338</td>\n",
       "    </tr>\n",
       "    <tr>\n",
       "      <th>1</th>\n",
       "      <td>2</td>\n",
       "      <td>3</td>\n",
       "      <td>7057</td>\n",
       "      <td>9810</td>\n",
       "      <td>9568</td>\n",
       "      <td>1762</td>\n",
       "      <td>3293</td>\n",
       "      <td>1776</td>\n",
       "    </tr>\n",
       "    <tr>\n",
       "      <th>2</th>\n",
       "      <td>2</td>\n",
       "      <td>3</td>\n",
       "      <td>6353</td>\n",
       "      <td>8808</td>\n",
       "      <td>7684</td>\n",
       "      <td>2405</td>\n",
       "      <td>3516</td>\n",
       "      <td>7844</td>\n",
       "    </tr>\n",
       "    <tr>\n",
       "      <th>3</th>\n",
       "      <td>1</td>\n",
       "      <td>3</td>\n",
       "      <td>13265</td>\n",
       "      <td>1196</td>\n",
       "      <td>4221</td>\n",
       "      <td>6404</td>\n",
       "      <td>507</td>\n",
       "      <td>1788</td>\n",
       "    </tr>\n",
       "    <tr>\n",
       "      <th>4</th>\n",
       "      <td>2</td>\n",
       "      <td>3</td>\n",
       "      <td>22615</td>\n",
       "      <td>5410</td>\n",
       "      <td>7198</td>\n",
       "      <td>3915</td>\n",
       "      <td>1777</td>\n",
       "      <td>5185</td>\n",
       "    </tr>\n",
       "  </tbody>\n",
       "</table>\n",
       "</div>"
      ],
      "text/plain": [
       "   Channel  Region  Fresh  Milk  Grocery  Frozen  Detergents_Paper  Delicassen\n",
       "0        2       3  12669  9656     7561     214              2674        1338\n",
       "1        2       3   7057  9810     9568    1762              3293        1776\n",
       "2        2       3   6353  8808     7684    2405              3516        7844\n",
       "3        1       3  13265  1196     4221    6404               507        1788\n",
       "4        2       3  22615  5410     7198    3915              1777        5185"
      ]
     },
     "execution_count": 8,
     "metadata": {},
     "output_type": "execute_result"
    }
   ],
   "source": [
    "wholesale = pd.read_csv(\"C:\\\\Users\\\\Umang\\\\Downloads\\\\Wholesale customers data.csv\")\n",
    "wholesale.head()\n",
    "print(wholesale.shape)\n",
    "wholesale.head()"
   ]
  },
  {
   "cell_type": "code",
   "execution_count": 6,
   "metadata": {
    "scrolled": true
   },
   "outputs": [
    {
     "name": "stdout",
     "output_type": "stream",
     "text": [
      "mean of  Fresh is  12000.3\n",
      "mean of  Milk is  5796.27\n",
      "mean of  Grocery is  7951.28\n",
      "mean of  Frozen is  3071.93\n",
      "mean of  Detergents_Paper is  2881.49\n",
      "mean of  Delicassen is  1524.87\n"
     ]
    }
   ],
   "source": [
    "mean = ['Fresh','Milk','Grocery','Frozen','Detergents_Paper','Delicassen']\n",
    "for i in mean:\n",
    "    a=wholesale[i].mean()\n",
    "    b=round(a,2)\n",
    "    print(\"mean of \",i,\"is \",b)"
   ]
  },
  {
   "cell_type": "markdown",
   "metadata": {},
   "source": [
    "# mean"
   ]
  },
  {
   "cell_type": "code",
   "execution_count": 19,
   "metadata": {},
   "outputs": [
    {
     "data": {
      "text/plain": [
       "Fresh               12000.30\n",
       "Milk                 5796.27\n",
       "Grocery              7951.28\n",
       "Frozen               3071.93\n",
       "Detergents_Paper     2881.49\n",
       "Delicassen           1524.87\n",
       "dtype: float64"
      ]
     },
     "execution_count": 19,
     "metadata": {},
     "output_type": "execute_result"
    }
   ],
   "source": [
    "wholesale[['Fresh','Milk','Grocery','Frozen','Detergents_Paper','Delicassen']].apply(lambda x:round(x.mean(),2))"
   ]
  },
  {
   "cell_type": "code",
   "execution_count": 14,
   "metadata": {
    "scrolled": false
   },
   "outputs": [
    {
     "name": "stdout",
     "output_type": "stream",
     "text": [
      "median of  Fresh is  8504.0 and  difference between its mean and median is  3496.3\n",
      "median of  Milk is  3627.0 and  difference between its mean and median is  2169.27\n",
      "median of  Grocery is  4755.5 and  difference between its mean and median is  3195.78\n",
      "median of  Frozen is  1526.0 and  difference between its mean and median is  1545.93\n",
      "median of  Detergents_Paper is  816.5 and  difference between its mean and median is  2064.99\n",
      "median of  Delicassen is  965.5 and  difference between its mean and median is  559.37\n"
     ]
    }
   ],
   "source": [
    "for j in mean:\n",
    "    a=wholesale[j].median()\n",
    "    b=wholesale[j].mean()\n",
    "    c=round(b-a,2)\n",
    "    print(\"median of \",j,\"is \",a,\"and \",\"difference between its mean and median is \",c)"
   ]
  },
  {
   "cell_type": "markdown",
   "metadata": {},
   "source": [
    "# median"
   ]
  },
  {
   "cell_type": "code",
   "execution_count": 23,
   "metadata": {
    "scrolled": true
   },
   "outputs": [
    {
     "name": "stdout",
     "output_type": "stream",
     "text": [
      "8504.0 3496.3\n",
      "3627.0 2169.27\n",
      "4755.5 3195.78\n",
      "1526.0 1545.93\n",
      "816.5 2064.99\n",
      "965.5 559.37\n"
     ]
    },
    {
     "data": {
      "text/plain": [
       "Fresh               None\n",
       "Milk                None\n",
       "Grocery             None\n",
       "Frozen              None\n",
       "Detergents_Paper    None\n",
       "Delicassen          None\n",
       "dtype: object"
      ]
     },
     "execution_count": 23,
     "metadata": {},
     "output_type": "execute_result"
    }
   ],
   "source": [
    "def median(a):\n",
    "    median =a.median()\n",
    "    mean=a.mean()\n",
    "    diff = round(mean-median,2)\n",
    "    print(median,diff)\n",
    "wholesale[['Fresh','Milk','Grocery','Frozen','Detergents_Paper','Delicassen']].apply(median,axis=0)"
   ]
  },
  {
   "cell_type": "markdown",
   "metadata": {},
   "source": [
    "# IQR"
   ]
  },
  {
   "cell_type": "code",
   "execution_count": 128,
   "metadata": {},
   "outputs": [
    {
     "data": {
      "text/plain": [
       "Fresh               13806.00\n",
       "Milk                 5657.25\n",
       "Grocery              8502.75\n",
       "Frozen               2812.00\n",
       "Detergents_Paper     3665.25\n",
       "Delicassen           1412.00\n",
       "dtype: float64"
      ]
     },
     "execution_count": 128,
     "metadata": {},
     "output_type": "execute_result"
    }
   ],
   "source": [
    "def iqr(data):\n",
    "    Q1=data.quantile(0.25)\n",
    "    Q3=data.quantile(0.75)\n",
    "    IQR = Q3-Q1\n",
    "    return IQR\n",
    "\n",
    "iqr(wholesale.drop(['Channel','Region'],axis=1))"
   ]
  },
  {
   "cell_type": "code",
   "execution_count": 36,
   "metadata": {
    "scrolled": false
   },
   "outputs": [
    {
     "data": {
      "text/plain": [
       "(440, 8)"
      ]
     },
     "execution_count": 36,
     "metadata": {},
     "output_type": "execute_result"
    }
   ],
   "source": [
    "wholesale.shape"
   ]
  },
  {
   "cell_type": "markdown",
   "metadata": {},
   "source": [
    "# MinCovDet"
   ]
  },
  {
   "cell_type": "code",
   "execution_count": 48,
   "metadata": {
    "scrolled": true
   },
   "outputs": [
    {
     "name": "stderr",
     "output_type": "stream",
     "text": [
      "C:\\Users\\Umang\\Anaconda3\\lib\\site-packages\\sklearn\\covariance\\robust_covariance.py:165: RuntimeWarning: Warning! det > previous_det (84.587126601202471 > 84.352843974446259)\n",
      "  % (det, previous_det), RuntimeWarning)\n"
     ]
    },
    {
     "data": {
      "text/plain": [
       "array([  1.09333333e+00,   2.56444444e+00,   1.00185067e+04,\n",
       "         2.63411556e+03,   3.67605778e+03,   2.27923111e+03,\n",
       "         9.88457778e+02,   8.82911111e+02])"
      ]
     },
     "execution_count": 48,
     "metadata": {},
     "output_type": "execute_result"
    }
   ],
   "source": [
    "mcd1 = MinCovDet().fit(wholesale)\n",
    "mcd1.raw_location_"
   ]
  },
  {
   "cell_type": "code",
   "execution_count": 85,
   "metadata": {},
   "outputs": [
    {
     "data": {
      "text/html": [
       "<div>\n",
       "<style>\n",
       "    .dataframe thead tr:only-child th {\n",
       "        text-align: right;\n",
       "    }\n",
       "\n",
       "    .dataframe thead th {\n",
       "        text-align: left;\n",
       "    }\n",
       "\n",
       "    .dataframe tbody tr th {\n",
       "        vertical-align: top;\n",
       "    }\n",
       "</style>\n",
       "<table border=\"1\" class=\"dataframe\">\n",
       "  <thead>\n",
       "    <tr style=\"text-align: right;\">\n",
       "      <th></th>\n",
       "      <th>0</th>\n",
       "      <th>1</th>\n",
       "      <th>2</th>\n",
       "      <th>3</th>\n",
       "      <th>4</th>\n",
       "      <th>5</th>\n",
       "    </tr>\n",
       "  </thead>\n",
       "  <tbody>\n",
       "    <tr>\n",
       "      <th>0</th>\n",
       "      <td>0.052933</td>\n",
       "      <td>0.523568</td>\n",
       "      <td>-0.041115</td>\n",
       "      <td>-0.589367</td>\n",
       "      <td>-0.043569</td>\n",
       "      <td>-0.066339</td>\n",
       "    </tr>\n",
       "    <tr>\n",
       "      <th>1</th>\n",
       "      <td>-0.391302</td>\n",
       "      <td>0.544458</td>\n",
       "      <td>0.170318</td>\n",
       "      <td>-0.270136</td>\n",
       "      <td>0.086407</td>\n",
       "      <td>0.089151</td>\n",
       "    </tr>\n",
       "    <tr>\n",
       "      <th>2</th>\n",
       "      <td>-0.447029</td>\n",
       "      <td>0.408538</td>\n",
       "      <td>-0.028157</td>\n",
       "      <td>-0.137536</td>\n",
       "      <td>0.133232</td>\n",
       "      <td>2.243293</td>\n",
       "    </tr>\n",
       "    <tr>\n",
       "      <th>3</th>\n",
       "      <td>0.100111</td>\n",
       "      <td>-0.624020</td>\n",
       "      <td>-0.392977</td>\n",
       "      <td>0.687144</td>\n",
       "      <td>-0.498588</td>\n",
       "      <td>0.093411</td>\n",
       "    </tr>\n",
       "    <tr>\n",
       "      <th>4</th>\n",
       "      <td>0.840239</td>\n",
       "      <td>-0.052396</td>\n",
       "      <td>-0.079356</td>\n",
       "      <td>0.173859</td>\n",
       "      <td>-0.231918</td>\n",
       "      <td>1.299347</td>\n",
       "    </tr>\n",
       "  </tbody>\n",
       "</table>\n",
       "</div>"
      ],
      "text/plain": [
       "          0         1         2         3         4         5\n",
       "0  0.052933  0.523568 -0.041115 -0.589367 -0.043569 -0.066339\n",
       "1 -0.391302  0.544458  0.170318 -0.270136  0.086407  0.089151\n",
       "2 -0.447029  0.408538 -0.028157 -0.137536  0.133232  2.243293\n",
       "3  0.100111 -0.624020 -0.392977  0.687144 -0.498588  0.093411\n",
       "4  0.840239 -0.052396 -0.079356  0.173859 -0.231918  1.299347"
      ]
     },
     "execution_count": 85,
     "metadata": {},
     "output_type": "execute_result"
    }
   ],
   "source": [
    "numerical.head()"
   ]
  },
  {
   "cell_type": "code",
   "execution_count": 86,
   "metadata": {
    "collapsed": true
   },
   "outputs": [],
   "source": [
    "mcd = MinCovDet().fit(numerical)"
   ]
  },
  {
   "cell_type": "code",
   "execution_count": 87,
   "metadata": {},
   "outputs": [
    {
     "data": {
      "text/plain": [
       "array([-0.21006389, -0.43748424, -0.45747804, -0.26401582, -0.40043912,\n",
       "       -0.23761241])"
      ]
     },
     "execution_count": 87,
     "metadata": {},
     "output_type": "execute_result"
    }
   ],
   "source": [
    "mcd.raw_location_"
   ]
  },
  {
   "cell_type": "code",
   "execution_count": 88,
   "metadata": {
    "collapsed": true
   },
   "outputs": [],
   "source": [
    "V = mcd.raw_covariance_"
   ]
  },
  {
   "cell_type": "code",
   "execution_count": 89,
   "metadata": {},
   "outputs": [
    {
     "data": {
      "text/plain": [
       "array([[ 0.54395867, -0.04249346, -0.04035264,  0.05236294, -0.05335506,\n",
       "         0.04983205],\n",
       "       [-0.04249346,  0.14153585,  0.12017646, -0.0245092 ,  0.10540717,\n",
       "         0.03505464],\n",
       "       [-0.04035264,  0.12017646,  0.17229867, -0.03839782,  0.14260729,\n",
       "         0.03171019],\n",
       "       [ 0.05236294, -0.0245092 , -0.03839782,  0.1899151 , -0.03810543,\n",
       "         0.01335376],\n",
       "       [-0.05335506,  0.10540717,  0.14260729, -0.03810543,  0.14877823,\n",
       "         0.01498048],\n",
       "       [ 0.04983205,  0.03505464,  0.03171019,  0.01335376,  0.01498048,\n",
       "         0.07741613]])"
      ]
     },
     "execution_count": 89,
     "metadata": {},
     "output_type": "execute_result"
    }
   ],
   "source": [
    "mcd.covariance_"
   ]
  },
  {
   "cell_type": "code",
   "execution_count": 90,
   "metadata": {},
   "outputs": [
    {
     "data": {
      "text/plain": [
       "<bound method MinCovDet.correct_covariance of MinCovDet(assume_centered=False, random_state=None, store_precision=True,\n",
       "     support_fraction=None)>"
      ]
     },
     "execution_count": 90,
     "metadata": {},
     "output_type": "execute_result"
    }
   ],
   "source": [
    "mcd.correct_covariance"
   ]
  },
  {
   "cell_type": "code",
   "execution_count": 21,
   "metadata": {},
   "outputs": [
    {
     "data": {
      "text/html": [
       "<div>\n",
       "<style>\n",
       "    .dataframe thead tr:only-child th {\n",
       "        text-align: right;\n",
       "    }\n",
       "\n",
       "    .dataframe thead th {\n",
       "        text-align: left;\n",
       "    }\n",
       "\n",
       "    .dataframe tbody tr th {\n",
       "        vertical-align: top;\n",
       "    }\n",
       "</style>\n",
       "<table border=\"1\" class=\"dataframe\">\n",
       "  <thead>\n",
       "    <tr style=\"text-align: right;\">\n",
       "      <th></th>\n",
       "      <th>Fresh</th>\n",
       "      <th>Milk</th>\n",
       "      <th>Grocery</th>\n",
       "      <th>Frozen</th>\n",
       "      <th>Detergents_Paper</th>\n",
       "      <th>Delicassen</th>\n",
       "    </tr>\n",
       "  </thead>\n",
       "  <tbody>\n",
       "    <tr>\n",
       "      <th>0</th>\n",
       "      <td>12669</td>\n",
       "      <td>9656</td>\n",
       "      <td>7561</td>\n",
       "      <td>214</td>\n",
       "      <td>2674</td>\n",
       "      <td>1338</td>\n",
       "    </tr>\n",
       "    <tr>\n",
       "      <th>1</th>\n",
       "      <td>7057</td>\n",
       "      <td>9810</td>\n",
       "      <td>9568</td>\n",
       "      <td>1762</td>\n",
       "      <td>3293</td>\n",
       "      <td>1776</td>\n",
       "    </tr>\n",
       "    <tr>\n",
       "      <th>2</th>\n",
       "      <td>6353</td>\n",
       "      <td>8808</td>\n",
       "      <td>7684</td>\n",
       "      <td>2405</td>\n",
       "      <td>3516</td>\n",
       "      <td>7844</td>\n",
       "    </tr>\n",
       "    <tr>\n",
       "      <th>3</th>\n",
       "      <td>13265</td>\n",
       "      <td>1196</td>\n",
       "      <td>4221</td>\n",
       "      <td>6404</td>\n",
       "      <td>507</td>\n",
       "      <td>1788</td>\n",
       "    </tr>\n",
       "    <tr>\n",
       "      <th>4</th>\n",
       "      <td>22615</td>\n",
       "      <td>5410</td>\n",
       "      <td>7198</td>\n",
       "      <td>3915</td>\n",
       "      <td>1777</td>\n",
       "      <td>5185</td>\n",
       "    </tr>\n",
       "  </tbody>\n",
       "</table>\n",
       "</div>"
      ],
      "text/plain": [
       "   Fresh  Milk  Grocery  Frozen  Detergents_Paper  Delicassen\n",
       "0  12669  9656     7561     214              2674        1338\n",
       "1   7057  9810     9568    1762              3293        1776\n",
       "2   6353  8808     7684    2405              3516        7844\n",
       "3  13265  1196     4221    6404               507        1788\n",
       "4  22615  5410     7198    3915              1777        5185"
      ]
     },
     "execution_count": 21,
     "metadata": {},
     "output_type": "execute_result"
    }
   ],
   "source": [
    "numerical = wholesale.drop(['Channel','Region'],axis=1)\n",
    "numerical.head()"
   ]
  },
  {
   "cell_type": "code",
   "execution_count": 22,
   "metadata": {},
   "outputs": [
    {
     "data": {
      "text/html": [
       "<div>\n",
       "<style>\n",
       "    .dataframe thead tr:only-child th {\n",
       "        text-align: right;\n",
       "    }\n",
       "\n",
       "    .dataframe thead th {\n",
       "        text-align: left;\n",
       "    }\n",
       "\n",
       "    .dataframe tbody tr th {\n",
       "        vertical-align: top;\n",
       "    }\n",
       "</style>\n",
       "<table border=\"1\" class=\"dataframe\">\n",
       "  <thead>\n",
       "    <tr style=\"text-align: right;\">\n",
       "      <th></th>\n",
       "      <th>0</th>\n",
       "      <th>1</th>\n",
       "      <th>2</th>\n",
       "      <th>3</th>\n",
       "      <th>4</th>\n",
       "      <th>5</th>\n",
       "    </tr>\n",
       "  </thead>\n",
       "  <tbody>\n",
       "    <tr>\n",
       "      <th>0</th>\n",
       "      <td>0.052933</td>\n",
       "      <td>0.523568</td>\n",
       "      <td>-0.041115</td>\n",
       "      <td>-0.589367</td>\n",
       "      <td>-0.043569</td>\n",
       "      <td>-0.066339</td>\n",
       "    </tr>\n",
       "    <tr>\n",
       "      <th>1</th>\n",
       "      <td>-0.391302</td>\n",
       "      <td>0.544458</td>\n",
       "      <td>0.170318</td>\n",
       "      <td>-0.270136</td>\n",
       "      <td>0.086407</td>\n",
       "      <td>0.089151</td>\n",
       "    </tr>\n",
       "    <tr>\n",
       "      <th>2</th>\n",
       "      <td>-0.447029</td>\n",
       "      <td>0.408538</td>\n",
       "      <td>-0.028157</td>\n",
       "      <td>-0.137536</td>\n",
       "      <td>0.133232</td>\n",
       "      <td>2.243293</td>\n",
       "    </tr>\n",
       "    <tr>\n",
       "      <th>3</th>\n",
       "      <td>0.100111</td>\n",
       "      <td>-0.624020</td>\n",
       "      <td>-0.392977</td>\n",
       "      <td>0.687144</td>\n",
       "      <td>-0.498588</td>\n",
       "      <td>0.093411</td>\n",
       "    </tr>\n",
       "    <tr>\n",
       "      <th>4</th>\n",
       "      <td>0.840239</td>\n",
       "      <td>-0.052396</td>\n",
       "      <td>-0.079356</td>\n",
       "      <td>0.173859</td>\n",
       "      <td>-0.231918</td>\n",
       "      <td>1.299347</td>\n",
       "    </tr>\n",
       "  </tbody>\n",
       "</table>\n",
       "</div>"
      ],
      "text/plain": [
       "          0         1         2         3         4         5\n",
       "0  0.052933  0.523568 -0.041115 -0.589367 -0.043569 -0.066339\n",
       "1 -0.391302  0.544458  0.170318 -0.270136  0.086407  0.089151\n",
       "2 -0.447029  0.408538 -0.028157 -0.137536  0.133232  2.243293\n",
       "3  0.100111 -0.624020 -0.392977  0.687144 -0.498588  0.093411\n",
       "4  0.840239 -0.052396 -0.079356  0.173859 -0.231918  1.299347"
      ]
     },
     "execution_count": 22,
     "metadata": {},
     "output_type": "execute_result"
    }
   ],
   "source": [
    "from sklearn import preprocessing\n",
    "from sklearn.decomposition import PCA\n",
    "numerical = pd.DataFrame(preprocessing.scale(numerical))\n",
    "numerical.head()"
   ]
  },
  {
   "cell_type": "code",
   "execution_count": 65,
   "metadata": {},
   "outputs": [
    {
     "data": {
      "text/html": [
       "<div>\n",
       "<style>\n",
       "    .dataframe thead tr:only-child th {\n",
       "        text-align: right;\n",
       "    }\n",
       "\n",
       "    .dataframe thead th {\n",
       "        text-align: left;\n",
       "    }\n",
       "\n",
       "    .dataframe tbody tr th {\n",
       "        vertical-align: top;\n",
       "    }\n",
       "</style>\n",
       "<table border=\"1\" class=\"dataframe\">\n",
       "  <thead>\n",
       "    <tr style=\"text-align: right;\">\n",
       "      <th></th>\n",
       "      <th>0</th>\n",
       "      <th>1</th>\n",
       "      <th>2</th>\n",
       "      <th>3</th>\n",
       "      <th>4</th>\n",
       "      <th>5</th>\n",
       "    </tr>\n",
       "  </thead>\n",
       "  <tbody>\n",
       "    <tr>\n",
       "      <th>0</th>\n",
       "      <td>1.002278</td>\n",
       "      <td>0.100739</td>\n",
       "      <td>-0.011881</td>\n",
       "      <td>0.346669</td>\n",
       "      <td>-0.102185</td>\n",
       "      <td>0.245247</td>\n",
       "    </tr>\n",
       "    <tr>\n",
       "      <th>1</th>\n",
       "      <td>0.100739</td>\n",
       "      <td>1.002278</td>\n",
       "      <td>0.729994</td>\n",
       "      <td>0.124276</td>\n",
       "      <td>0.663323</td>\n",
       "      <td>0.407294</td>\n",
       "    </tr>\n",
       "    <tr>\n",
       "      <th>2</th>\n",
       "      <td>-0.011881</td>\n",
       "      <td>0.729994</td>\n",
       "      <td>1.002278</td>\n",
       "      <td>-0.040284</td>\n",
       "      <td>0.926747</td>\n",
       "      <td>0.205965</td>\n",
       "    </tr>\n",
       "    <tr>\n",
       "      <th>3</th>\n",
       "      <td>0.346669</td>\n",
       "      <td>0.124276</td>\n",
       "      <td>-0.040284</td>\n",
       "      <td>1.002278</td>\n",
       "      <td>-0.131825</td>\n",
       "      <td>0.391838</td>\n",
       "    </tr>\n",
       "    <tr>\n",
       "      <th>4</th>\n",
       "      <td>-0.102185</td>\n",
       "      <td>0.663323</td>\n",
       "      <td>0.926747</td>\n",
       "      <td>-0.131825</td>\n",
       "      <td>1.002278</td>\n",
       "      <td>0.069449</td>\n",
       "    </tr>\n",
       "    <tr>\n",
       "      <th>5</th>\n",
       "      <td>0.245247</td>\n",
       "      <td>0.407294</td>\n",
       "      <td>0.205965</td>\n",
       "      <td>0.391838</td>\n",
       "      <td>0.069449</td>\n",
       "      <td>1.002278</td>\n",
       "    </tr>\n",
       "  </tbody>\n",
       "</table>\n",
       "</div>"
      ],
      "text/plain": [
       "          0         1         2         3         4         5\n",
       "0  1.002278  0.100739 -0.011881  0.346669 -0.102185  0.245247\n",
       "1  0.100739  1.002278  0.729994  0.124276  0.663323  0.407294\n",
       "2 -0.011881  0.729994  1.002278 -0.040284  0.926747  0.205965\n",
       "3  0.346669  0.124276 -0.040284  1.002278 -0.131825  0.391838\n",
       "4 -0.102185  0.663323  0.926747 -0.131825  1.002278  0.069449\n",
       "5  0.245247  0.407294  0.205965  0.391838  0.069449  1.002278"
      ]
     },
     "execution_count": 65,
     "metadata": {},
     "output_type": "execute_result"
    }
   ],
   "source": [
    "cov_mat = numerical.cov()\n",
    "cov_mat"
   ]
  },
  {
   "cell_type": "code",
   "execution_count": 74,
   "metadata": {
    "collapsed": true
   },
   "outputs": [],
   "source": [
    "my_pca = PCA(n_components=3)"
   ]
  },
  {
   "cell_type": "code",
   "execution_count": 75,
   "metadata": {},
   "outputs": [
    {
     "data": {
      "text/html": [
       "<div>\n",
       "<style>\n",
       "    .dataframe thead tr:only-child th {\n",
       "        text-align: right;\n",
       "    }\n",
       "\n",
       "    .dataframe thead th {\n",
       "        text-align: left;\n",
       "    }\n",
       "\n",
       "    .dataframe tbody tr th {\n",
       "        vertical-align: top;\n",
       "    }\n",
       "</style>\n",
       "<table border=\"1\" class=\"dataframe\">\n",
       "  <thead>\n",
       "    <tr style=\"text-align: right;\">\n",
       "      <th></th>\n",
       "      <th>0</th>\n",
       "      <th>1</th>\n",
       "      <th>2</th>\n",
       "    </tr>\n",
       "  </thead>\n",
       "  <tbody>\n",
       "    <tr>\n",
       "      <th>0</th>\n",
       "      <td>0.193291</td>\n",
       "      <td>-0.305100</td>\n",
       "      <td>-0.140878</td>\n",
       "    </tr>\n",
       "    <tr>\n",
       "      <th>1</th>\n",
       "      <td>0.434420</td>\n",
       "      <td>-0.328413</td>\n",
       "      <td>0.319007</td>\n",
       "    </tr>\n",
       "    <tr>\n",
       "      <th>2</th>\n",
       "      <td>0.811143</td>\n",
       "      <td>0.815096</td>\n",
       "      <td>1.523416</td>\n",
       "    </tr>\n",
       "    <tr>\n",
       "      <th>3</th>\n",
       "      <td>-0.778648</td>\n",
       "      <td>0.652754</td>\n",
       "      <td>0.163012</td>\n",
       "    </tr>\n",
       "    <tr>\n",
       "      <th>4</th>\n",
       "      <td>0.166287</td>\n",
       "      <td>1.271434</td>\n",
       "      <td>0.066279</td>\n",
       "    </tr>\n",
       "  </tbody>\n",
       "</table>\n",
       "</div>"
      ],
      "text/plain": [
       "          0         1         2\n",
       "0  0.193291 -0.305100 -0.140878\n",
       "1  0.434420 -0.328413  0.319007\n",
       "2  0.811143  0.815096  1.523416\n",
       "3 -0.778648  0.652754  0.163012\n",
       "4  0.166287  1.271434  0.066279"
      ]
     },
     "execution_count": 75,
     "metadata": {},
     "output_type": "execute_result"
    }
   ],
   "source": [
    "pc = my_pca.fit_transform(X=numerical)\n",
    "PC =pd.DataFrame(pc)\n",
    "\n",
    "PC.head()"
   ]
  },
  {
   "cell_type": "code",
   "execution_count": 76,
   "metadata": {
    "scrolled": true
   },
   "outputs": [
    {
     "data": {
      "text/plain": [
       "0.84793705304531442"
      ]
     },
     "execution_count": 76,
     "metadata": {},
     "output_type": "execute_result"
    }
   ],
   "source": [
    "my_pca.explained_variance_ratio_.sum()"
   ]
  },
  {
   "cell_type": "markdown",
   "metadata": {},
   "source": [
    "# Mahalanobis distance"
   ]
  },
  {
   "cell_type": "code",
   "execution_count": 91,
   "metadata": {
    "scrolled": true
   },
   "outputs": [
    {
     "data": {
      "text/html": [
       "<div>\n",
       "<style>\n",
       "    .dataframe thead tr:only-child th {\n",
       "        text-align: right;\n",
       "    }\n",
       "\n",
       "    .dataframe thead th {\n",
       "        text-align: left;\n",
       "    }\n",
       "\n",
       "    .dataframe tbody tr th {\n",
       "        vertical-align: top;\n",
       "    }\n",
       "</style>\n",
       "<table border=\"1\" class=\"dataframe\">\n",
       "  <thead>\n",
       "    <tr style=\"text-align: right;\">\n",
       "      <th></th>\n",
       "      <th>0</th>\n",
       "      <th>1</th>\n",
       "      <th>2</th>\n",
       "      <th>3</th>\n",
       "      <th>4</th>\n",
       "      <th>5</th>\n",
       "    </tr>\n",
       "  </thead>\n",
       "  <tbody>\n",
       "    <tr>\n",
       "      <th>0</th>\n",
       "      <td>0.052933</td>\n",
       "      <td>0.523568</td>\n",
       "      <td>-0.041115</td>\n",
       "      <td>-0.589367</td>\n",
       "      <td>-0.043569</td>\n",
       "      <td>-0.066339</td>\n",
       "    </tr>\n",
       "  </tbody>\n",
       "</table>\n",
       "</div>"
      ],
      "text/plain": [
       "          0         1         2         3         4         5\n",
       "0  0.052933  0.523568 -0.041115 -0.589367 -0.043569 -0.066339"
      ]
     },
     "execution_count": 91,
     "metadata": {},
     "output_type": "execute_result"
    }
   ],
   "source": [
    "u = preprocessing.scale([10000,10000,10000,10000,10000,10000])\n",
    "v = numerical.iloc[:1,:]\n",
    "v"
   ]
  },
  {
   "cell_type": "code",
   "execution_count": 92,
   "metadata": {},
   "outputs": [
    {
     "data": {
      "text/plain": [
       "array([ 0.,  0.,  0.,  0.,  0.,  0.])"
      ]
     },
     "execution_count": 92,
     "metadata": {},
     "output_type": "execute_result"
    }
   ],
   "source": [
    "u"
   ]
  },
  {
   "cell_type": "code",
   "execution_count": 93,
   "metadata": {
    "collapsed": true
   },
   "outputs": [],
   "source": [
    "from scipy import linalg\n",
    "Vm = np.matrix(V)\n",
    "Vinv = np.linalg.inv(Vm)"
   ]
  },
  {
   "cell_type": "code",
   "execution_count": 94,
   "metadata": {},
   "outputs": [
    {
     "data": {
      "text/plain": [
       "matrix([[ 3.79192729]])"
      ]
     },
     "execution_count": 94,
     "metadata": {},
     "output_type": "execute_result"
    }
   ],
   "source": [
    "from scipy.spatial.distance import mahalanobis\n",
    "MD = mahalanobis(u,v,Vinv)\n",
    "MD"
   ]
  },
  {
   "cell_type": "code",
   "execution_count": 96,
   "metadata": {},
   "outputs": [
    {
     "data": {
      "text/plain": [
       "array([-0.27676022, -0.29425802, -0.33666844, -0.31880447, -0.43360044,\n",
       "       -0.19857665])"
      ]
     },
     "execution_count": 96,
     "metadata": {},
     "output_type": "execute_result"
    }
   ],
   "source": [
    "md = np.array(numerical.apply(lambda x:x.median()))\n",
    "md"
   ]
  },
  {
   "cell_type": "code",
   "execution_count": 97,
   "metadata": {
    "scrolled": true
   },
   "outputs": [
    {
     "data": {
      "text/plain": [
       "[-0.27676022465581374,\n",
       " -0.29425802264908912,\n",
       " -0.33666844368522819,\n",
       " -0.31880447003934997,\n",
       " -0.43360043705535578,\n",
       " -0.19857664952087339]"
      ]
     },
     "execution_count": 97,
     "metadata": {},
     "output_type": "execute_result"
    }
   ],
   "source": [
    "med = []\n",
    "for i in range(len(md)):\n",
    "    med.append(md[i])\n",
    "med"
   ]
  },
  {
   "cell_type": "code",
   "execution_count": 103,
   "metadata": {},
   "outputs": [
    {
     "data": {
      "text/html": [
       "<div>\n",
       "<style>\n",
       "    .dataframe thead tr:only-child th {\n",
       "        text-align: right;\n",
       "    }\n",
       "\n",
       "    .dataframe thead th {\n",
       "        text-align: left;\n",
       "    }\n",
       "\n",
       "    .dataframe tbody tr th {\n",
       "        vertical-align: top;\n",
       "    }\n",
       "</style>\n",
       "<table border=\"1\" class=\"dataframe\">\n",
       "  <thead>\n",
       "    <tr style=\"text-align: right;\">\n",
       "      <th></th>\n",
       "      <th>0</th>\n",
       "      <th>1</th>\n",
       "      <th>2</th>\n",
       "      <th>3</th>\n",
       "      <th>4</th>\n",
       "      <th>5</th>\n",
       "    </tr>\n",
       "  </thead>\n",
       "  <tbody>\n",
       "    <tr>\n",
       "      <th>0</th>\n",
       "      <td>0.052933</td>\n",
       "      <td>0.523568</td>\n",
       "      <td>-0.041115</td>\n",
       "      <td>-0.589367</td>\n",
       "      <td>-0.043569</td>\n",
       "      <td>-0.066339</td>\n",
       "    </tr>\n",
       "    <tr>\n",
       "      <th>1</th>\n",
       "      <td>-0.391302</td>\n",
       "      <td>0.544458</td>\n",
       "      <td>0.170318</td>\n",
       "      <td>-0.270136</td>\n",
       "      <td>0.086407</td>\n",
       "      <td>0.089151</td>\n",
       "    </tr>\n",
       "    <tr>\n",
       "      <th>2</th>\n",
       "      <td>-0.447029</td>\n",
       "      <td>0.408538</td>\n",
       "      <td>-0.028157</td>\n",
       "      <td>-0.137536</td>\n",
       "      <td>0.133232</td>\n",
       "      <td>2.243293</td>\n",
       "    </tr>\n",
       "    <tr>\n",
       "      <th>3</th>\n",
       "      <td>0.100111</td>\n",
       "      <td>-0.624020</td>\n",
       "      <td>-0.392977</td>\n",
       "      <td>0.687144</td>\n",
       "      <td>-0.498588</td>\n",
       "      <td>0.093411</td>\n",
       "    </tr>\n",
       "    <tr>\n",
       "      <th>4</th>\n",
       "      <td>0.840239</td>\n",
       "      <td>-0.052396</td>\n",
       "      <td>-0.079356</td>\n",
       "      <td>0.173859</td>\n",
       "      <td>-0.231918</td>\n",
       "      <td>1.299347</td>\n",
       "    </tr>\n",
       "  </tbody>\n",
       "</table>\n",
       "</div>"
      ],
      "text/plain": [
       "          0         1         2         3         4         5\n",
       "0  0.052933  0.523568 -0.041115 -0.589367 -0.043569 -0.066339\n",
       "1 -0.391302  0.544458  0.170318 -0.270136  0.086407  0.089151\n",
       "2 -0.447029  0.408538 -0.028157 -0.137536  0.133232  2.243293\n",
       "3  0.100111 -0.624020 -0.392977  0.687144 -0.498588  0.093411\n",
       "4  0.840239 -0.052396 -0.079356  0.173859 -0.231918  1.299347"
      ]
     },
     "execution_count": 103,
     "metadata": {},
     "output_type": "execute_result"
    }
   ],
   "source": [
    "numerical.head()"
   ]
  },
  {
   "cell_type": "code",
   "execution_count": 109,
   "metadata": {},
   "outputs": [
    {
     "data": {
      "text/plain": [
       "[matrix([[ 3.75662484]]),\n",
       " matrix([[ 3.35527813]]),\n",
       " matrix([[ 12.36661465]]),\n",
       " matrix([[ 3.87708225]]),\n",
       " matrix([[ 7.16304341]]),\n",
       " matrix([[ 3.35471972]]),\n",
       " matrix([[ 3.13289526]]),\n",
       " matrix([[ 3.7092661]]),\n",
       " matrix([[ 1.18043596]]),\n",
       " matrix([[ 5.64908871]]),\n",
       " matrix([[ 6.23494662]]),\n",
       " matrix([[ 1.87245929]]),\n",
       " matrix([[ 6.01993156]]),\n",
       " matrix([[ 6.44655952]]),\n",
       " matrix([[ 4.73040999]]),\n",
       " matrix([[ 2.09901114]]),\n",
       " matrix([[ 3.19496946]]),\n",
       " matrix([[ 6.53446912]]),\n",
       " matrix([[ 3.89550367]]),\n",
       " matrix([[ 3.15717633]]),\n",
       " matrix([[ 3.68534947]]),\n",
       " matrix([[ 2.23957908]]),\n",
       " matrix([[ 9.16258234]]),\n",
       " matrix([[ 27.4812755]]),\n",
       " matrix([[ 8.0053461]]),\n",
       " matrix([[ 4.23687517]]),\n",
       " matrix([[ 1.77116091]]),\n",
       " matrix([[ 2.00332521]]),\n",
       " matrix([[ 9.62428868]]),\n",
       " matrix([[ 5.55921322]]),\n",
       " matrix([[ 4.74047919]]),\n",
       " matrix([[ 1.76335338]]),\n",
       " matrix([[ 2.99245685]]),\n",
       " matrix([[ 5.06162027]]),\n",
       " matrix([[ 1.92814065]]),\n",
       " matrix([[ 3.36127253]]),\n",
       " matrix([[ 6.51813635]]),\n",
       " matrix([[ 5.99738831]]),\n",
       " matrix([[ 7.15660386]]),\n",
       " matrix([[ 8.87197275]]),\n",
       " matrix([[ 9.66630718]]),\n",
       " matrix([[ 4.76379669]]),\n",
       " matrix([[ 5.75944093]]),\n",
       " matrix([[ 8.2916736]]),\n",
       " matrix([[ 3.86177972]]),\n",
       " matrix([[ 9.9748547]]),\n",
       " matrix([[ 6.95888794]]),\n",
       " matrix([[ 28.9409661]]),\n",
       " matrix([[ 4.26265735]]),\n",
       " matrix([[ 11.66491558]]),\n",
       " matrix([[ 4.01659143]]),\n",
       " matrix([[ 1.76070975]]),\n",
       " matrix([[ 5.47288603]]),\n",
       " matrix([[ 5.13434453]]),\n",
       " matrix([[ 3.11201021]]),\n",
       " matrix([[ 2.09417882]]),\n",
       " matrix([[ 18.79419184]]),\n",
       " matrix([[ 7.87252359]]),\n",
       " matrix([[ 1.95527877]]),\n",
       " matrix([[ 2.45597103]]),\n",
       " matrix([[ 4.31174046]]),\n",
       " matrix([[ 24.38908758]]),\n",
       " matrix([[ 4.94163973]]),\n",
       " matrix([[ 6.50750378]]),\n",
       " matrix([[ 3.15469353]]),\n",
       " matrix([[ 20.60386121]]),\n",
       " matrix([[ 4.38231985]]),\n",
       " matrix([[ 4.40822301]]),\n",
       " matrix([[ 5.25121284]]),\n",
       " matrix([[ 2.47493002]]),\n",
       " matrix([[ 6.04675326]]),\n",
       " matrix([[ 25.52934339]]),\n",
       " matrix([[ 6.1005057]]),\n",
       " matrix([[ 6.09148577]]),\n",
       " matrix([[ 2.339541]]),\n",
       " matrix([[ 3.28269434]]),\n",
       " matrix([[ 4.85260881]]),\n",
       " matrix([[ 10.14281452]]),\n",
       " matrix([[ 1.76223693]]),\n",
       " matrix([[ 2.57459485]]),\n",
       " matrix([[ 2.08070097]]),\n",
       " matrix([[ 6.63643755]]),\n",
       " matrix([[ 3.12797561]]),\n",
       " matrix([[ 2.597055]]),\n",
       " matrix([[ 5.1293025]]),\n",
       " matrix([[ 35.42259018]]),\n",
       " matrix([[ 45.47919951]]),\n",
       " matrix([[ 23.02701758]]),\n",
       " matrix([[ 6.0447387]]),\n",
       " matrix([[ 4.07223368]]),\n",
       " matrix([[ 2.06454227]]),\n",
       " matrix([[ 4.95305169]]),\n",
       " matrix([[ 18.05607696]]),\n",
       " matrix([[ 22.7946108]]),\n",
       " matrix([[ 5.59402446]]),\n",
       " matrix([[ 2.63248348]]),\n",
       " matrix([[ 4.23600642]]),\n",
       " matrix([[ 2.74172531]]),\n",
       " matrix([[ 2.71187111]]),\n",
       " matrix([[ 3.04399795]]),\n",
       " matrix([[ 9.27883399]]),\n",
       " matrix([[ 5.15388115]]),\n",
       " matrix([[ 4.87473636]]),\n",
       " matrix([[ 12.75629984]]),\n",
       " matrix([[ 2.38589752]]),\n",
       " matrix([[ 2.28381413]]),\n",
       " matrix([[ 7.19890613]]),\n",
       " matrix([[ 8.31365369]]),\n",
       " matrix([[ 2.95695152]]),\n",
       " matrix([[ 19.93215114]]),\n",
       " matrix([[ 2.39607283]]),\n",
       " matrix([[ 5.02852136]]),\n",
       " matrix([[ 5.76410564]]),\n",
       " matrix([[ 2.71362166]]),\n",
       " matrix([[ 2.21431326]]),\n",
       " matrix([[ 1.7279346]]),\n",
       " matrix([[ 1.31843598]]),\n",
       " matrix([[ 1.27169429]]),\n",
       " matrix([[ 3.0318768]]),\n",
       " matrix([[ 1.88810984]]),\n",
       " matrix([[ 1.83890669]]),\n",
       " matrix([[ 2.09600264]]),\n",
       " matrix([[ 2.71206525]]),\n",
       " matrix([[ 5.67976298]]),\n",
       " matrix([[ 4.44057439]]),\n",
       " matrix([[ 13.75929508]]),\n",
       " matrix([[ 4.80548018]]),\n",
       " matrix([[ 3.60227436]]),\n",
       " matrix([[ 4.93825982]]),\n",
       " matrix([[ 5.5408033]]),\n",
       " matrix([[ 3.93725506]]),\n",
       " matrix([[ 2.78813834]]),\n",
       " matrix([[ 2.36909922]]),\n",
       " matrix([[ 2.22634459]]),\n",
       " matrix([[ 1.33317397]]),\n",
       " matrix([[ 1.46927083]]),\n",
       " matrix([[ 3.94383505]]),\n",
       " matrix([[ 4.91985373]]),\n",
       " matrix([[ 4.10587607]]),\n",
       " matrix([[ 1.71120893]]),\n",
       " matrix([[ 2.99695496]]),\n",
       " matrix([[ 8.74168937]]),\n",
       " matrix([[ 7.44638514]]),\n",
       " matrix([[ 5.03191033]]),\n",
       " matrix([[ 2.99403781]]),\n",
       " matrix([[ 14.44503936]]),\n",
       " matrix([[ 1.25829143]]),\n",
       " matrix([[ 1.91325581]]),\n",
       " matrix([[ 2.99495993]]),\n",
       " matrix([[ 3.95252183]]),\n",
       " matrix([[ 2.06679265]]),\n",
       " matrix([[ 2.78951716]]),\n",
       " matrix([[ 2.30207253]]),\n",
       " matrix([[ 5.08639547]]),\n",
       " matrix([[ 3.08765162]]),\n",
       " matrix([[ 10.5870267]]),\n",
       " matrix([[ 7.49169961]]),\n",
       " matrix([[ 2.58697246]]),\n",
       " matrix([[ 3.12627028]]),\n",
       " matrix([[ 7.06024852]]),\n",
       " matrix([[ 5.19737823]]),\n",
       " matrix([[ 4.23315447]]),\n",
       " matrix([[ 1.45618455]]),\n",
       " matrix([[ 11.64691129]]),\n",
       " matrix([[ 3.63544224]]),\n",
       " matrix([[ 6.72114098]]),\n",
       " matrix([[ 6.79421634]]),\n",
       " matrix([[ 2.60627645]]),\n",
       " matrix([[ 2.18732835]]),\n",
       " matrix([[ 1.83804956]]),\n",
       " matrix([[ 5.91744507]]),\n",
       " matrix([[ 13.02421331]]),\n",
       " matrix([[ 2.44941523]]),\n",
       " matrix([[ 8.68619537]]),\n",
       " matrix([[ 2.99720801]]),\n",
       " matrix([[ 2.91961536]]),\n",
       " matrix([[ 7.77542322]]),\n",
       " matrix([[ 3.74067859]]),\n",
       " matrix([[ 3.83639463]]),\n",
       " matrix([[ 3.48153035]]),\n",
       " matrix([[ 3.28209247]]),\n",
       " matrix([[ 24.61147289]]),\n",
       " matrix([[ 6.76675586]]),\n",
       " matrix([[ 78.47319425]]),\n",
       " matrix([[ 2.7454386]]),\n",
       " matrix([[ 4.06358124]]),\n",
       " matrix([[ 3.79940431]]),\n",
       " matrix([[ 5.4996078]]),\n",
       " matrix([[ 6.52120135]]),\n",
       " matrix([[ 4.1049192]]),\n",
       " matrix([[ 5.74339206]]),\n",
       " matrix([[ 2.33095704]]),\n",
       " matrix([[ 1.62563219]]),\n",
       " matrix([[ 8.31519253]]),\n",
       " matrix([[ 2.0664918]]),\n",
       " matrix([[ 4.6197563]]),\n",
       " matrix([[ 12.19158621]]),\n",
       " matrix([[ 3.17977324]]),\n",
       " matrix([[ 2.82747027]]),\n",
       " matrix([[ 1.6983415]]),\n",
       " matrix([[ 8.71789404]]),\n",
       " matrix([[ 12.79563055]]),\n",
       " matrix([[ 9.98703057]]),\n",
       " matrix([[ 2.91880244]]),\n",
       " matrix([[ 2.98618919]]),\n",
       " matrix([[ 7.696949]]),\n",
       " matrix([[ 2.37654646]]),\n",
       " matrix([[ 6.89017964]]),\n",
       " matrix([[ 3.92858814]]),\n",
       " matrix([[ 12.43210836]]),\n",
       " matrix([[ 3.35165597]]),\n",
       " matrix([[ 17.09785414]]),\n",
       " matrix([[ 2.93657664]]),\n",
       " matrix([[ 4.08082763]]),\n",
       " matrix([[ 5.11609345]]),\n",
       " matrix([[ 4.57112659]]),\n",
       " matrix([[ 12.45152239]]),\n",
       " matrix([[ 1.98661733]]),\n",
       " matrix([[ 9.88375884]]),\n",
       " matrix([[ 2.20207257]]),\n",
       " matrix([[ 1.964122]]),\n",
       " matrix([[ 3.26108473]]),\n",
       " matrix([[ 4.32229062]]),\n",
       " matrix([[ 3.31129408]]),\n",
       " matrix([[ 2.06005185]]),\n",
       " matrix([[ 1.0300243]]),\n",
       " matrix([[ 2.52929901]]),\n",
       " matrix([[ 1.77942972]]),\n",
       " matrix([[ 9.7488611]]),\n",
       " matrix([[ 3.84444682]]),\n",
       " matrix([[ 5.05391077]]),\n",
       " matrix([[ 5.88317111]]),\n",
       " matrix([[ 2.87368391]]),\n",
       " matrix([[ 2.59066195]]),\n",
       " matrix([[ 3.28637039]]),\n",
       " matrix([[ 3.39154516]]),\n",
       " matrix([[ 1.81741343]]),\n",
       " matrix([[ 3.37162378]]),\n",
       " matrix([[ 2.3680293]]),\n",
       " matrix([[ 6.06966843]]),\n",
       " matrix([[ 7.23413216]]),\n",
       " matrix([[ 2.66562129]]),\n",
       " matrix([[ 2.61269505]]),\n",
       " matrix([[ 3.25282255]]),\n",
       " matrix([[ 2.47237237]]),\n",
       " matrix([[ 10.05886543]]),\n",
       " matrix([[ 1.62407858]]),\n",
       " matrix([[ 2.47609366]]),\n",
       " matrix([[ 2.92965138]]),\n",
       " matrix([[ 4.10035502]]),\n",
       " matrix([[ 1.66702933]]),\n",
       " matrix([[ 17.74340613]]),\n",
       " matrix([[ 4.54733608]]),\n",
       " matrix([[ 10.35741332]]),\n",
       " matrix([[ 10.83329451]]),\n",
       " matrix([[ 3.79248807]]),\n",
       " matrix([[ 2.4093099]]),\n",
       " matrix([[ 7.37304108]]),\n",
       " matrix([[ 8.15128836]]),\n",
       " matrix([[ 7.10844303]]),\n",
       " matrix([[ 2.64836659]]),\n",
       " matrix([[ 3.88674268]]),\n",
       " matrix([[ 2.93072603]]),\n",
       " matrix([[ 4.6035727]]),\n",
       " matrix([[ 4.27555231]]),\n",
       " matrix([[ 15.73513435]]),\n",
       " matrix([[ 7.92075186]]),\n",
       " matrix([[ 5.96099042]]),\n",
       " matrix([[ 6.34398872]]),\n",
       " matrix([[ 2.61463654]]),\n",
       " matrix([[ 3.42971991]]),\n",
       " matrix([[ 2.90820007]]),\n",
       " matrix([[ 4.51768786]]),\n",
       " matrix([[ 4.75757601]]),\n",
       " matrix([[ 2.91872135]]),\n",
       " matrix([[ 2.6533306]]),\n",
       " matrix([[ 3.98425841]]),\n",
       " matrix([[ 10.83102901]]),\n",
       " matrix([[ 3.04369765]]),\n",
       " matrix([[ 2.92779204]]),\n",
       " matrix([[ 1.50815958]]),\n",
       " matrix([[ 2.87898017]]),\n",
       " matrix([[ 6.40368234]]),\n",
       " matrix([[ 6.26056377]]),\n",
       " matrix([[ 11.07514592]]),\n",
       " matrix([[ 5.27254706]]),\n",
       " matrix([[ 3.15563254]]),\n",
       " matrix([[ 4.60046756]]),\n",
       " matrix([[ 2.71880571]]),\n",
       " matrix([[ 5.71117026]]),\n",
       " matrix([[ 2.94994989]]),\n",
       " matrix([[ 1.05392611]]),\n",
       " matrix([[ 1.97404874]]),\n",
       " matrix([[ 5.11991329]]),\n",
       " matrix([[ 3.09699713]]),\n",
       " matrix([[ 2.79318538]]),\n",
       " matrix([[ 2.23570771]]),\n",
       " matrix([[ 3.94144259]]),\n",
       " matrix([[ 3.95077365]]),\n",
       " matrix([[ 2.33453474]]),\n",
       " matrix([[ 3.11105484]]),\n",
       " matrix([[ 7.53338802]]),\n",
       " matrix([[ 6.30936171]]),\n",
       " matrix([[ 11.44877363]]),\n",
       " matrix([[ 11.38616445]]),\n",
       " matrix([[ 6.33291582]]),\n",
       " matrix([[ 6.50656926]]),\n",
       " matrix([[ 1.62255153]]),\n",
       " matrix([[ 1.78748215]]),\n",
       " matrix([[ 10.62481385]]),\n",
       " matrix([[ 7.55576089]]),\n",
       " matrix([[ 5.35279256]]),\n",
       " matrix([[ 20.94887695]]),\n",
       " matrix([[ 2.41262204]]),\n",
       " matrix([[ 2.93840966]]),\n",
       " matrix([[ 6.512653]]),\n",
       " matrix([[ 1.65127117]]),\n",
       " matrix([[ 2.17994381]]),\n",
       " matrix([[ 1.69970986]]),\n",
       " matrix([[ 15.11016082]]),\n",
       " matrix([[ 1.83129113]]),\n",
       " matrix([[ 1.85512205]]),\n",
       " matrix([[ 3.36021398]]),\n",
       " matrix([[ 5.57562037]]),\n",
       " matrix([[ 2.80544909]]),\n",
       " matrix([[ 42.10449812]]),\n",
       " matrix([[ 2.43208977]]),\n",
       " matrix([[ 2.29935302]]),\n",
       " matrix([[ 4.25744272]]),\n",
       " matrix([[ 2.93790065]]),\n",
       " matrix([[ 2.15759996]]),\n",
       " matrix([[ 8.6969528]]),\n",
       " matrix([[ 3.93836413]]),\n",
       " matrix([[ 42.49268051]]),\n",
       " matrix([[ 8.09517404]]),\n",
       " matrix([[ 4.2064269]]),\n",
       " matrix([[ 2.10791709]]),\n",
       " matrix([[ 4.62207134]]),\n",
       " matrix([[ 10.69366669]]),\n",
       " matrix([[ 6.28746934]]),\n",
       " matrix([[ 8.80813834]]),\n",
       " matrix([[ 4.92401465]]),\n",
       " matrix([[ 5.79571144]]),\n",
       " matrix([[ 15.55218766]]),\n",
       " matrix([[ 1.89836647]]),\n",
       " matrix([[ 4.12764923]]),\n",
       " matrix([[ 5.68349088]]),\n",
       " matrix([[ 4.74267443]]),\n",
       " matrix([[ 2.66880378]]),\n",
       " matrix([[ 10.99039191]]),\n",
       " matrix([[ 2.02667153]]),\n",
       " matrix([[ 12.28326247]]),\n",
       " matrix([[ 2.13805954]]),\n",
       " matrix([[ 8.16697348]]),\n",
       " matrix([[ 5.52418572]]),\n",
       " matrix([[ 2.38246816]]),\n",
       " matrix([[ 3.20804223]]),\n",
       " matrix([[ 10.50817201]]),\n",
       " matrix([[ 12.83173549]]),\n",
       " matrix([[ 3.06629656]]),\n",
       " matrix([[ 2.39397192]]),\n",
       " matrix([[ 2.34638472]]),\n",
       " matrix([[ 1.76454399]]),\n",
       " matrix([[ 2.52257268]]),\n",
       " matrix([[ 2.46583183]]),\n",
       " matrix([[ 6.09124666]]),\n",
       " matrix([[ 1.57269467]]),\n",
       " matrix([[ 2.5492201]]),\n",
       " matrix([[ 2.34492133]]),\n",
       " matrix([[ 2.36447052]]),\n",
       " matrix([[ 4.748816]]),\n",
       " matrix([[ 4.92022589]]),\n",
       " matrix([[ 7.79677112]]),\n",
       " matrix([[ 3.4967771]]),\n",
       " matrix([[ 1.61786481]]),\n",
       " matrix([[ 2.40983536]]),\n",
       " matrix([[ 5.1303303]]),\n",
       " matrix([[ 4.60211947]]),\n",
       " matrix([[ 1.9839062]]),\n",
       " matrix([[ 4.90327794]]),\n",
       " matrix([[ 3.72237652]]),\n",
       " matrix([[ 6.27073963]]),\n",
       " matrix([[ 4.75282772]]),\n",
       " matrix([[ 2.44414166]]),\n",
       " matrix([[ 14.06187455]]),\n",
       " matrix([[ 2.09960252]]),\n",
       " matrix([[ 1.52227934]]),\n",
       " matrix([[ 2.37602171]]),\n",
       " matrix([[ 2.02418499]]),\n",
       " matrix([[ 1.89443201]]),\n",
       " matrix([[ 3.49431559]]),\n",
       " matrix([[ 2.53957519]]),\n",
       " matrix([[ 1.76336346]]),\n",
       " matrix([[ 6.12308907]]),\n",
       " matrix([[ 1.66946444]]),\n",
       " matrix([[ 2.80795462]]),\n",
       " matrix([[ 4.95386051]]),\n",
       " matrix([[ 3.67666929]]),\n",
       " matrix([[ 3.21926456]]),\n",
       " matrix([[ 2.57770377]]),\n",
       " matrix([[ 2.60747228]]),\n",
       " matrix([[ 7.98565133]]),\n",
       " matrix([[ 4.1331687]]),\n",
       " matrix([[ 7.32302541]]),\n",
       " matrix([[ 2.88193339]]),\n",
       " matrix([[ 2.48368389]]),\n",
       " matrix([[ 6.18809185]]),\n",
       " matrix([[ 6.91659711]]),\n",
       " matrix([[ 2.484442]]),\n",
       " matrix([[ 8.01540251]]),\n",
       " matrix([[ 3.50668393]]),\n",
       " matrix([[ 6.54722915]]),\n",
       " matrix([[ 4.53388775]]),\n",
       " matrix([[ 11.51980621]]),\n",
       " matrix([[ 3.46390264]]),\n",
       " matrix([[ 3.01477719]]),\n",
       " matrix([[ 6.55366778]]),\n",
       " matrix([[ 2.56499003]]),\n",
       " matrix([[ 5.59894504]]),\n",
       " matrix([[ 3.54252883]]),\n",
       " matrix([[ 6.41786279]]),\n",
       " matrix([[ 3.11500052]]),\n",
       " matrix([[ 3.22671415]]),\n",
       " matrix([[ 2.27401422]]),\n",
       " matrix([[ 4.69574084]]),\n",
       " matrix([[ 9.32735204]]),\n",
       " matrix([[ 4.2876398]]),\n",
       " matrix([[ 14.70195956]]),\n",
       " matrix([[ 2.54890445]]),\n",
       " matrix([[ 3.63887375]]),\n",
       " matrix([[ 9.61441906]]),\n",
       " matrix([[ 8.46722301]]),\n",
       " matrix([[ 3.03526498]]),\n",
       " matrix([[ 2.57254854]]),\n",
       " matrix([[ 2.18534533]]),\n",
       " matrix([[ 13.36996994]]),\n",
       " matrix([[ 5.444381]]),\n",
       " matrix([[ 12.15307104]]),\n",
       " matrix([[ 2.94682983]]),\n",
       " matrix([[ 2.04657421]])]"
      ]
     },
     "execution_count": 109,
     "metadata": {},
     "output_type": "execute_result"
    }
   ],
   "source": [
    "MahD = []\n",
    "out = []\n",
    "for i in range(len(numerical)):\n",
    "    sp=mahalanobis(numerical.iloc[i,:],med,Vinv)\n",
    "    if sp>15:\n",
    "        out.append(i)\n",
    "    MahD.append(sp)\n",
    "MahD"
   ]
  },
  {
   "cell_type": "code",
   "execution_count": 110,
   "metadata": {},
   "outputs": [
    {
     "data": {
      "text/plain": [
       "[matrix([[ 78.47319425]]),\n",
       " matrix([[ 45.47919951]]),\n",
       " matrix([[ 42.49268051]]),\n",
       " matrix([[ 42.10449812]]),\n",
       " matrix([[ 35.42259018]]),\n",
       " matrix([[ 28.9409661]]),\n",
       " matrix([[ 27.4812755]]),\n",
       " matrix([[ 25.52934339]]),\n",
       " matrix([[ 24.61147289]]),\n",
       " matrix([[ 24.38908758]]),\n",
       " matrix([[ 23.02701758]]),\n",
       " matrix([[ 22.7946108]]),\n",
       " matrix([[ 20.94887695]]),\n",
       " matrix([[ 20.60386121]]),\n",
       " matrix([[ 19.93215114]]),\n",
       " matrix([[ 18.79419184]]),\n",
       " matrix([[ 18.05607696]]),\n",
       " matrix([[ 17.74340613]]),\n",
       " matrix([[ 17.09785414]]),\n",
       " matrix([[ 15.73513435]]),\n",
       " matrix([[ 15.55218766]]),\n",
       " matrix([[ 15.11016082]]),\n",
       " matrix([[ 14.70195956]]),\n",
       " matrix([[ 14.44503936]]),\n",
       " matrix([[ 14.06187455]]),\n",
       " matrix([[ 13.75929508]]),\n",
       " matrix([[ 13.36996994]]),\n",
       " matrix([[ 13.02421331]]),\n",
       " matrix([[ 12.83173549]]),\n",
       " matrix([[ 12.79563055]]),\n",
       " matrix([[ 12.75629984]]),\n",
       " matrix([[ 12.45152239]]),\n",
       " matrix([[ 12.43210836]]),\n",
       " matrix([[ 12.36661465]]),\n",
       " matrix([[ 12.28326247]]),\n",
       " matrix([[ 12.19158621]]),\n",
       " matrix([[ 12.15307104]]),\n",
       " matrix([[ 11.66491558]]),\n",
       " matrix([[ 11.64691129]]),\n",
       " matrix([[ 11.51980621]]),\n",
       " matrix([[ 11.44877363]]),\n",
       " matrix([[ 11.38616445]]),\n",
       " matrix([[ 11.07514592]]),\n",
       " matrix([[ 10.99039191]]),\n",
       " matrix([[ 10.83329451]]),\n",
       " matrix([[ 10.83102901]]),\n",
       " matrix([[ 10.69366669]]),\n",
       " matrix([[ 10.62481385]]),\n",
       " matrix([[ 10.5870267]]),\n",
       " matrix([[ 10.50817201]]),\n",
       " matrix([[ 10.35741332]]),\n",
       " matrix([[ 10.14281452]]),\n",
       " matrix([[ 10.05886543]]),\n",
       " matrix([[ 9.98703057]]),\n",
       " matrix([[ 9.9748547]]),\n",
       " matrix([[ 9.88375884]]),\n",
       " matrix([[ 9.7488611]]),\n",
       " matrix([[ 9.66630718]]),\n",
       " matrix([[ 9.62428868]]),\n",
       " matrix([[ 9.61441906]]),\n",
       " matrix([[ 9.32735204]]),\n",
       " matrix([[ 9.27883399]]),\n",
       " matrix([[ 9.16258234]]),\n",
       " matrix([[ 8.87197275]]),\n",
       " matrix([[ 8.80813834]]),\n",
       " matrix([[ 8.74168937]]),\n",
       " matrix([[ 8.71789404]]),\n",
       " matrix([[ 8.6969528]]),\n",
       " matrix([[ 8.68619537]]),\n",
       " matrix([[ 8.46722301]]),\n",
       " matrix([[ 8.31519253]]),\n",
       " matrix([[ 8.31365369]]),\n",
       " matrix([[ 8.2916736]]),\n",
       " matrix([[ 8.16697348]]),\n",
       " matrix([[ 8.15128836]]),\n",
       " matrix([[ 8.09517404]]),\n",
       " matrix([[ 8.01540251]]),\n",
       " matrix([[ 8.0053461]]),\n",
       " matrix([[ 7.98565133]]),\n",
       " matrix([[ 7.92075186]]),\n",
       " matrix([[ 7.87252359]]),\n",
       " matrix([[ 7.79677112]]),\n",
       " matrix([[ 7.77542322]]),\n",
       " matrix([[ 7.696949]]),\n",
       " matrix([[ 7.55576089]]),\n",
       " matrix([[ 7.53338802]]),\n",
       " matrix([[ 7.49169961]]),\n",
       " matrix([[ 7.44638514]]),\n",
       " matrix([[ 7.37304108]]),\n",
       " matrix([[ 7.32302541]]),\n",
       " matrix([[ 7.23413216]]),\n",
       " matrix([[ 7.19890613]]),\n",
       " matrix([[ 7.16304341]]),\n",
       " matrix([[ 7.15660386]]),\n",
       " matrix([[ 7.10844303]]),\n",
       " matrix([[ 7.06024852]]),\n",
       " matrix([[ 6.95888794]]),\n",
       " matrix([[ 6.91659711]]),\n",
       " matrix([[ 6.89017964]]),\n",
       " matrix([[ 6.79421634]]),\n",
       " matrix([[ 6.76675586]]),\n",
       " matrix([[ 6.72114098]]),\n",
       " matrix([[ 6.63643755]]),\n",
       " matrix([[ 6.55366778]]),\n",
       " matrix([[ 6.54722915]]),\n",
       " matrix([[ 6.53446912]]),\n",
       " matrix([[ 6.52120135]]),\n",
       " matrix([[ 6.51813635]]),\n",
       " matrix([[ 6.512653]]),\n",
       " matrix([[ 6.50750378]]),\n",
       " matrix([[ 6.50656926]]),\n",
       " matrix([[ 6.44655952]]),\n",
       " matrix([[ 6.41786279]]),\n",
       " matrix([[ 6.40368234]]),\n",
       " matrix([[ 6.34398872]]),\n",
       " matrix([[ 6.33291582]]),\n",
       " matrix([[ 6.30936171]]),\n",
       " matrix([[ 6.28746934]]),\n",
       " matrix([[ 6.27073963]]),\n",
       " matrix([[ 6.26056377]]),\n",
       " matrix([[ 6.23494662]]),\n",
       " matrix([[ 6.18809185]]),\n",
       " matrix([[ 6.12308907]]),\n",
       " matrix([[ 6.1005057]]),\n",
       " matrix([[ 6.09148577]]),\n",
       " matrix([[ 6.09124666]]),\n",
       " matrix([[ 6.06966843]]),\n",
       " matrix([[ 6.04675326]]),\n",
       " matrix([[ 6.0447387]]),\n",
       " matrix([[ 6.01993156]]),\n",
       " matrix([[ 5.99738831]]),\n",
       " matrix([[ 5.96099042]]),\n",
       " matrix([[ 5.91744507]]),\n",
       " matrix([[ 5.88317111]]),\n",
       " matrix([[ 5.79571144]]),\n",
       " matrix([[ 5.76410564]]),\n",
       " matrix([[ 5.75944093]]),\n",
       " matrix([[ 5.74339206]]),\n",
       " matrix([[ 5.71117026]]),\n",
       " matrix([[ 5.68349088]]),\n",
       " matrix([[ 5.67976298]]),\n",
       " matrix([[ 5.64908871]]),\n",
       " matrix([[ 5.59894504]]),\n",
       " matrix([[ 5.59402446]]),\n",
       " matrix([[ 5.57562037]]),\n",
       " matrix([[ 5.55921322]]),\n",
       " matrix([[ 5.5408033]]),\n",
       " matrix([[ 5.52418572]]),\n",
       " matrix([[ 5.4996078]]),\n",
       " matrix([[ 5.47288603]]),\n",
       " matrix([[ 5.444381]]),\n",
       " matrix([[ 5.35279256]]),\n",
       " matrix([[ 5.27254706]]),\n",
       " matrix([[ 5.25121284]]),\n",
       " matrix([[ 5.19737823]]),\n",
       " matrix([[ 5.15388115]]),\n",
       " matrix([[ 5.13434453]]),\n",
       " matrix([[ 5.1303303]]),\n",
       " matrix([[ 5.1293025]]),\n",
       " matrix([[ 5.11991329]]),\n",
       " matrix([[ 5.11609345]]),\n",
       " matrix([[ 5.08639547]]),\n",
       " matrix([[ 5.06162027]]),\n",
       " matrix([[ 5.05391077]]),\n",
       " matrix([[ 5.03191033]]),\n",
       " matrix([[ 5.02852136]]),\n",
       " matrix([[ 4.95386051]]),\n",
       " matrix([[ 4.95305169]]),\n",
       " matrix([[ 4.94163973]]),\n",
       " matrix([[ 4.93825982]]),\n",
       " matrix([[ 4.92401465]]),\n",
       " matrix([[ 4.92022589]]),\n",
       " matrix([[ 4.91985373]]),\n",
       " matrix([[ 4.90327794]]),\n",
       " matrix([[ 4.87473636]]),\n",
       " matrix([[ 4.85260881]]),\n",
       " matrix([[ 4.80548018]]),\n",
       " matrix([[ 4.76379669]]),\n",
       " matrix([[ 4.75757601]]),\n",
       " matrix([[ 4.75282772]]),\n",
       " matrix([[ 4.748816]]),\n",
       " matrix([[ 4.74267443]]),\n",
       " matrix([[ 4.74047919]]),\n",
       " matrix([[ 4.73040999]]),\n",
       " matrix([[ 4.69574084]]),\n",
       " matrix([[ 4.62207134]]),\n",
       " matrix([[ 4.6197563]]),\n",
       " matrix([[ 4.6035727]]),\n",
       " matrix([[ 4.60211947]]),\n",
       " matrix([[ 4.60046756]]),\n",
       " matrix([[ 4.57112659]]),\n",
       " matrix([[ 4.54733608]]),\n",
       " matrix([[ 4.53388775]]),\n",
       " matrix([[ 4.51768786]]),\n",
       " matrix([[ 4.44057439]]),\n",
       " matrix([[ 4.40822301]]),\n",
       " matrix([[ 4.38231985]]),\n",
       " matrix([[ 4.32229062]]),\n",
       " matrix([[ 4.31174046]]),\n",
       " matrix([[ 4.2876398]]),\n",
       " matrix([[ 4.27555231]]),\n",
       " matrix([[ 4.26265735]]),\n",
       " matrix([[ 4.25744272]]),\n",
       " matrix([[ 4.23687517]]),\n",
       " matrix([[ 4.23600642]]),\n",
       " matrix([[ 4.23315447]]),\n",
       " matrix([[ 4.2064269]]),\n",
       " matrix([[ 4.1331687]]),\n",
       " matrix([[ 4.12764923]]),\n",
       " matrix([[ 4.10587607]]),\n",
       " matrix([[ 4.1049192]]),\n",
       " matrix([[ 4.10035502]]),\n",
       " matrix([[ 4.08082763]]),\n",
       " matrix([[ 4.07223368]]),\n",
       " matrix([[ 4.06358124]]),\n",
       " matrix([[ 4.01659143]]),\n",
       " matrix([[ 3.98425841]]),\n",
       " matrix([[ 3.95252183]]),\n",
       " matrix([[ 3.95077365]]),\n",
       " matrix([[ 3.94383505]]),\n",
       " matrix([[ 3.94144259]]),\n",
       " matrix([[ 3.93836413]]),\n",
       " matrix([[ 3.93725506]]),\n",
       " matrix([[ 3.92858814]]),\n",
       " matrix([[ 3.89550367]]),\n",
       " matrix([[ 3.88674268]]),\n",
       " matrix([[ 3.87708225]]),\n",
       " matrix([[ 3.86177972]]),\n",
       " matrix([[ 3.84444682]]),\n",
       " matrix([[ 3.83639463]]),\n",
       " matrix([[ 3.79940431]]),\n",
       " matrix([[ 3.79248807]]),\n",
       " matrix([[ 3.75662484]]),\n",
       " matrix([[ 3.74067859]]),\n",
       " matrix([[ 3.72237652]]),\n",
       " matrix([[ 3.7092661]]),\n",
       " matrix([[ 3.68534947]]),\n",
       " matrix([[ 3.67666929]]),\n",
       " matrix([[ 3.63887375]]),\n",
       " matrix([[ 3.63544224]]),\n",
       " matrix([[ 3.60227436]]),\n",
       " matrix([[ 3.54252883]]),\n",
       " matrix([[ 3.50668393]]),\n",
       " matrix([[ 3.4967771]]),\n",
       " matrix([[ 3.49431559]]),\n",
       " matrix([[ 3.48153035]]),\n",
       " matrix([[ 3.46390264]]),\n",
       " matrix([[ 3.42971991]]),\n",
       " matrix([[ 3.39154516]]),\n",
       " matrix([[ 3.37162378]]),\n",
       " matrix([[ 3.36127253]]),\n",
       " matrix([[ 3.36021398]]),\n",
       " matrix([[ 3.35527813]]),\n",
       " matrix([[ 3.35471972]]),\n",
       " matrix([[ 3.35165597]]),\n",
       " matrix([[ 3.31129408]]),\n",
       " matrix([[ 3.28637039]]),\n",
       " matrix([[ 3.28269434]]),\n",
       " matrix([[ 3.28209247]]),\n",
       " matrix([[ 3.26108473]]),\n",
       " matrix([[ 3.25282255]]),\n",
       " matrix([[ 3.22671415]]),\n",
       " matrix([[ 3.21926456]]),\n",
       " matrix([[ 3.20804223]]),\n",
       " matrix([[ 3.19496946]]),\n",
       " matrix([[ 3.17977324]]),\n",
       " matrix([[ 3.15717633]]),\n",
       " matrix([[ 3.15563254]]),\n",
       " matrix([[ 3.15469353]]),\n",
       " matrix([[ 3.13289526]]),\n",
       " matrix([[ 3.12797561]]),\n",
       " matrix([[ 3.12627028]]),\n",
       " matrix([[ 3.11500052]]),\n",
       " matrix([[ 3.11201021]]),\n",
       " matrix([[ 3.11105484]]),\n",
       " matrix([[ 3.09699713]]),\n",
       " matrix([[ 3.08765162]]),\n",
       " matrix([[ 3.06629656]]),\n",
       " matrix([[ 3.04399795]]),\n",
       " matrix([[ 3.04369765]]),\n",
       " matrix([[ 3.03526498]]),\n",
       " matrix([[ 3.0318768]]),\n",
       " matrix([[ 3.01477719]]),\n",
       " matrix([[ 2.99720801]]),\n",
       " matrix([[ 2.99695496]]),\n",
       " matrix([[ 2.99495993]]),\n",
       " matrix([[ 2.99403781]]),\n",
       " matrix([[ 2.99245685]]),\n",
       " matrix([[ 2.98618919]]),\n",
       " matrix([[ 2.95695152]]),\n",
       " matrix([[ 2.94994989]]),\n",
       " matrix([[ 2.94682983]]),\n",
       " matrix([[ 2.93840966]]),\n",
       " matrix([[ 2.93790065]]),\n",
       " matrix([[ 2.93657664]]),\n",
       " matrix([[ 2.93072603]]),\n",
       " matrix([[ 2.92965138]]),\n",
       " matrix([[ 2.92779204]]),\n",
       " matrix([[ 2.91961536]]),\n",
       " matrix([[ 2.91880244]]),\n",
       " matrix([[ 2.91872135]]),\n",
       " matrix([[ 2.90820007]]),\n",
       " matrix([[ 2.88193339]]),\n",
       " matrix([[ 2.87898017]]),\n",
       " matrix([[ 2.87368391]]),\n",
       " matrix([[ 2.82747027]]),\n",
       " matrix([[ 2.80795462]]),\n",
       " matrix([[ 2.80544909]]),\n",
       " matrix([[ 2.79318538]]),\n",
       " matrix([[ 2.78951716]]),\n",
       " matrix([[ 2.78813834]]),\n",
       " matrix([[ 2.7454386]]),\n",
       " matrix([[ 2.74172531]]),\n",
       " matrix([[ 2.71880571]]),\n",
       " matrix([[ 2.71362166]]),\n",
       " matrix([[ 2.71206525]]),\n",
       " matrix([[ 2.71187111]]),\n",
       " matrix([[ 2.66880378]]),\n",
       " matrix([[ 2.66562129]]),\n",
       " matrix([[ 2.6533306]]),\n",
       " matrix([[ 2.64836659]]),\n",
       " matrix([[ 2.63248348]]),\n",
       " matrix([[ 2.61463654]]),\n",
       " matrix([[ 2.61269505]]),\n",
       " matrix([[ 2.60747228]]),\n",
       " matrix([[ 2.60627645]]),\n",
       " matrix([[ 2.597055]]),\n",
       " matrix([[ 2.59066195]]),\n",
       " matrix([[ 2.58697246]]),\n",
       " matrix([[ 2.57770377]]),\n",
       " matrix([[ 2.57459485]]),\n",
       " matrix([[ 2.57254854]]),\n",
       " matrix([[ 2.56499003]]),\n",
       " matrix([[ 2.5492201]]),\n",
       " matrix([[ 2.54890445]]),\n",
       " matrix([[ 2.53957519]]),\n",
       " matrix([[ 2.52929901]]),\n",
       " matrix([[ 2.52257268]]),\n",
       " matrix([[ 2.484442]]),\n",
       " matrix([[ 2.48368389]]),\n",
       " matrix([[ 2.47609366]]),\n",
       " matrix([[ 2.47493002]]),\n",
       " matrix([[ 2.47237237]]),\n",
       " matrix([[ 2.46583183]]),\n",
       " matrix([[ 2.45597103]]),\n",
       " matrix([[ 2.44941523]]),\n",
       " matrix([[ 2.44414166]]),\n",
       " matrix([[ 2.43208977]]),\n",
       " matrix([[ 2.41262204]]),\n",
       " matrix([[ 2.40983536]]),\n",
       " matrix([[ 2.4093099]]),\n",
       " matrix([[ 2.39607283]]),\n",
       " matrix([[ 2.39397192]]),\n",
       " matrix([[ 2.38589752]]),\n",
       " matrix([[ 2.38246816]]),\n",
       " matrix([[ 2.37654646]]),\n",
       " matrix([[ 2.37602171]]),\n",
       " matrix([[ 2.36909922]]),\n",
       " matrix([[ 2.3680293]]),\n",
       " matrix([[ 2.36447052]]),\n",
       " matrix([[ 2.34638472]]),\n",
       " matrix([[ 2.34492133]]),\n",
       " matrix([[ 2.339541]]),\n",
       " matrix([[ 2.33453474]]),\n",
       " matrix([[ 2.33095704]]),\n",
       " matrix([[ 2.30207253]]),\n",
       " matrix([[ 2.29935302]]),\n",
       " matrix([[ 2.28381413]]),\n",
       " matrix([[ 2.27401422]]),\n",
       " matrix([[ 2.23957908]]),\n",
       " matrix([[ 2.23570771]]),\n",
       " matrix([[ 2.22634459]]),\n",
       " matrix([[ 2.21431326]]),\n",
       " matrix([[ 2.20207257]]),\n",
       " matrix([[ 2.18732835]]),\n",
       " matrix([[ 2.18534533]]),\n",
       " matrix([[ 2.17994381]]),\n",
       " matrix([[ 2.15759996]]),\n",
       " matrix([[ 2.13805954]]),\n",
       " matrix([[ 2.10791709]]),\n",
       " matrix([[ 2.09960252]]),\n",
       " matrix([[ 2.09901114]]),\n",
       " matrix([[ 2.09600264]]),\n",
       " matrix([[ 2.09417882]]),\n",
       " matrix([[ 2.08070097]]),\n",
       " matrix([[ 2.06679265]]),\n",
       " matrix([[ 2.0664918]]),\n",
       " matrix([[ 2.06454227]]),\n",
       " matrix([[ 2.06005185]]),\n",
       " matrix([[ 2.04657421]]),\n",
       " matrix([[ 2.02667153]]),\n",
       " matrix([[ 2.02418499]]),\n",
       " matrix([[ 2.00332521]]),\n",
       " matrix([[ 1.98661733]]),\n",
       " matrix([[ 1.9839062]]),\n",
       " matrix([[ 1.97404874]]),\n",
       " matrix([[ 1.964122]]),\n",
       " matrix([[ 1.95527877]]),\n",
       " matrix([[ 1.92814065]]),\n",
       " matrix([[ 1.91325581]]),\n",
       " matrix([[ 1.89836647]]),\n",
       " matrix([[ 1.89443201]]),\n",
       " matrix([[ 1.88810984]]),\n",
       " matrix([[ 1.87245929]]),\n",
       " matrix([[ 1.85512205]]),\n",
       " matrix([[ 1.83890669]]),\n",
       " matrix([[ 1.83804956]]),\n",
       " matrix([[ 1.83129113]]),\n",
       " matrix([[ 1.81741343]]),\n",
       " matrix([[ 1.78748215]]),\n",
       " matrix([[ 1.77942972]]),\n",
       " matrix([[ 1.77116091]]),\n",
       " matrix([[ 1.76454399]]),\n",
       " matrix([[ 1.76336346]]),\n",
       " matrix([[ 1.76335338]]),\n",
       " matrix([[ 1.76223693]]),\n",
       " matrix([[ 1.76070975]]),\n",
       " matrix([[ 1.7279346]]),\n",
       " matrix([[ 1.71120893]]),\n",
       " matrix([[ 1.69970986]]),\n",
       " matrix([[ 1.6983415]]),\n",
       " matrix([[ 1.66946444]]),\n",
       " matrix([[ 1.66702933]]),\n",
       " matrix([[ 1.65127117]]),\n",
       " matrix([[ 1.62563219]]),\n",
       " matrix([[ 1.62407858]]),\n",
       " matrix([[ 1.62255153]]),\n",
       " matrix([[ 1.61786481]]),\n",
       " matrix([[ 1.57269467]]),\n",
       " matrix([[ 1.52227934]]),\n",
       " matrix([[ 1.50815958]]),\n",
       " matrix([[ 1.46927083]]),\n",
       " matrix([[ 1.45618455]]),\n",
       " matrix([[ 1.33317397]]),\n",
       " matrix([[ 1.31843598]]),\n",
       " matrix([[ 1.27169429]]),\n",
       " matrix([[ 1.25829143]]),\n",
       " matrix([[ 1.18043596]]),\n",
       " matrix([[ 1.05392611]]),\n",
       " matrix([[ 1.0300243]])]"
      ]
     },
     "execution_count": 110,
     "metadata": {},
     "output_type": "execute_result"
    }
   ],
   "source": [
    "MahD.sort(reverse=True)\n",
    "MahD"
   ]
  },
  {
   "cell_type": "code",
   "execution_count": 111,
   "metadata": {},
   "outputs": [
    {
     "data": {
      "text/plain": [
       "22"
      ]
     },
     "execution_count": 111,
     "metadata": {},
     "output_type": "execute_result"
    }
   ],
   "source": [
    "c = [x for x in MahD if x > 15]\n",
    "len(c)"
   ]
  },
  {
   "cell_type": "code",
   "execution_count": 112,
   "metadata": {
    "scrolled": true
   },
   "outputs": [
    {
     "data": {
      "text/plain": [
       "[23,\n",
       " 47,\n",
       " 56,\n",
       " 61,\n",
       " 65,\n",
       " 71,\n",
       " 85,\n",
       " 86,\n",
       " 87,\n",
       " 92,\n",
       " 93,\n",
       " 109,\n",
       " 181,\n",
       " 183,\n",
       " 211,\n",
       " 251,\n",
       " 265,\n",
       " 312,\n",
       " 319,\n",
       " 325,\n",
       " 333,\n",
       " 343]"
      ]
     },
     "execution_count": 112,
     "metadata": {},
     "output_type": "execute_result"
    }
   ],
   "source": [
    "out"
   ]
  },
  {
   "cell_type": "code",
   "execution_count": 113,
   "metadata": {
    "scrolled": true
   },
   "outputs": [
    {
     "data": {
      "text/plain": [
       "pandas.core.frame.DataFrame"
      ]
     },
     "execution_count": 113,
     "metadata": {},
     "output_type": "execute_result"
    }
   ],
   "source": [
    "type(numerical)"
   ]
  },
  {
   "cell_type": "code",
   "execution_count": 114,
   "metadata": {
    "scrolled": true
   },
   "outputs": [
    {
     "data": {
      "text/html": [
       "<div>\n",
       "<style>\n",
       "    .dataframe thead tr:only-child th {\n",
       "        text-align: right;\n",
       "    }\n",
       "\n",
       "    .dataframe thead th {\n",
       "        text-align: left;\n",
       "    }\n",
       "\n",
       "    .dataframe tbody tr th {\n",
       "        vertical-align: top;\n",
       "    }\n",
       "</style>\n",
       "<table border=\"1\" class=\"dataframe\">\n",
       "  <thead>\n",
       "    <tr style=\"text-align: right;\">\n",
       "      <th></th>\n",
       "      <th>0</th>\n",
       "      <th>1</th>\n",
       "      <th>2</th>\n",
       "      <th>3</th>\n",
       "      <th>4</th>\n",
       "      <th>5</th>\n",
       "    </tr>\n",
       "  </thead>\n",
       "  <tbody>\n",
       "    <tr>\n",
       "      <th>0</th>\n",
       "      <td>0.052933</td>\n",
       "      <td>0.523568</td>\n",
       "      <td>-0.041115</td>\n",
       "      <td>-0.589367</td>\n",
       "      <td>-0.043569</td>\n",
       "      <td>-0.066339</td>\n",
       "    </tr>\n",
       "    <tr>\n",
       "      <th>1</th>\n",
       "      <td>-0.391302</td>\n",
       "      <td>0.544458</td>\n",
       "      <td>0.170318</td>\n",
       "      <td>-0.270136</td>\n",
       "      <td>0.086407</td>\n",
       "      <td>0.089151</td>\n",
       "    </tr>\n",
       "    <tr>\n",
       "      <th>2</th>\n",
       "      <td>-0.447029</td>\n",
       "      <td>0.408538</td>\n",
       "      <td>-0.028157</td>\n",
       "      <td>-0.137536</td>\n",
       "      <td>0.133232</td>\n",
       "      <td>2.243293</td>\n",
       "    </tr>\n",
       "    <tr>\n",
       "      <th>3</th>\n",
       "      <td>0.100111</td>\n",
       "      <td>-0.624020</td>\n",
       "      <td>-0.392977</td>\n",
       "      <td>0.687144</td>\n",
       "      <td>-0.498588</td>\n",
       "      <td>0.093411</td>\n",
       "    </tr>\n",
       "    <tr>\n",
       "      <th>4</th>\n",
       "      <td>0.840239</td>\n",
       "      <td>-0.052396</td>\n",
       "      <td>-0.079356</td>\n",
       "      <td>0.173859</td>\n",
       "      <td>-0.231918</td>\n",
       "      <td>1.299347</td>\n",
       "    </tr>\n",
       "  </tbody>\n",
       "</table>\n",
       "</div>"
      ],
      "text/plain": [
       "          0         1         2         3         4         5\n",
       "0  0.052933  0.523568 -0.041115 -0.589367 -0.043569 -0.066339\n",
       "1 -0.391302  0.544458  0.170318 -0.270136  0.086407  0.089151\n",
       "2 -0.447029  0.408538 -0.028157 -0.137536  0.133232  2.243293\n",
       "3  0.100111 -0.624020 -0.392977  0.687144 -0.498588  0.093411\n",
       "4  0.840239 -0.052396 -0.079356  0.173859 -0.231918  1.299347"
      ]
     },
     "execution_count": 114,
     "metadata": {},
     "output_type": "execute_result"
    }
   ],
   "source": [
    "numerical_copy = numerical.copy()\n",
    "numerical_copy.head()"
   ]
  },
  {
   "cell_type": "markdown",
   "metadata": {},
   "source": [
    "# removing outliers"
   ]
  },
  {
   "cell_type": "code",
   "execution_count": 115,
   "metadata": {},
   "outputs": [
    {
     "data": {
      "text/plain": [
       "418"
      ]
     },
     "execution_count": 115,
     "metadata": {},
     "output_type": "execute_result"
    }
   ],
   "source": [
    "for i in out:\n",
    "    numerical_copy.drop(numerical_copy.index[i],inplace=True)\n",
    "len(numerical_copy)"
   ]
  },
  {
   "cell_type": "code",
   "execution_count": 116,
   "metadata": {
    "collapsed": true
   },
   "outputs": [],
   "source": [
    "from sklearn.metrics import silhouette_score\n",
    "from sklearn.cluster import KMeans\n",
    "import matplotlib.pyplot as plt\n",
    "%matplotlib inline"
   ]
  },
  {
   "cell_type": "code",
   "execution_count": 119,
   "metadata": {},
   "outputs": [
    {
     "name": "stdout",
     "output_type": "stream",
     "text": [
      "532.252591947\n"
     ]
    }
   ],
   "source": [
    "SS = []\n",
    "for k in range(1,11):\n",
    "    km = KMeans(n_clusters=k,n_init=50)\n",
    "    ss = km.fit(numerical_copy).inertia_\n",
    "    SS.append(ss)\n",
    "print(min(SS))"
   ]
  },
  {
   "cell_type": "code",
   "execution_count": 120,
   "metadata": {},
   "outputs": [
    {
     "data": {
      "image/png": "[encoded data removed]",
      "text/plain": [
       "<matplotlib.figure.Figure at 0x1db29daa8d0>"
      ]
     },
     "metadata": {},
     "output_type": "display_data"
    }
   ],
   "source": [
    "plt.plot(range(1,11),SS)\n",
    "plt.show()"
   ]
  },
  {
   "cell_type": "code",
   "execution_count": 121,
   "metadata": {
    "collapsed": true
   },
   "outputs": [],
   "source": [
    "km1 = KMeans(n_clusters=6,n_init=50)\n",
    "fit=km1.fit(numerical_copy)"
   ]
  },
  {
   "cell_type": "code",
   "execution_count": 122,
   "metadata": {},
   "outputs": [
    {
     "data": {
      "text/plain": [
       "array([[ -2.60779190e-01,  -3.72480508e-01,  -4.34555023e-01,\n",
       "         -9.85894192e-02,  -3.91531851e-01,  -1.91273001e-01],\n",
       "       [ -5.37251066e-01,   6.73243456e-01,   9.26318202e-01,\n",
       "         -3.43975490e-01,   9.62063360e-01,   2.30673419e-02],\n",
       "       [  3.13830315e-01,   3.92190593e+00,   4.27561037e+00,\n",
       "         -3.57419457e-03,   4.61816580e+00,   5.03365339e-01],\n",
       "       [  1.96681731e+00,   5.17550306e+00,   1.28721685e+00,\n",
       "          6.90059988e+00,  -5.54861977e-01,   1.64784475e+01],\n",
       "       [  1.63989443e+00,   1.49047145e+00,   5.97820156e-01,\n",
       "          1.19190015e+01,  -3.37956054e-01,   1.44986700e+00],\n",
       "       [  1.75127879e+00,  -1.04019523e-01,  -1.95850577e-01,\n",
       "          3.93265269e-01,  -3.77289430e-01,   3.38613160e-01]])"
      ]
     },
     "execution_count": 122,
     "metadata": {},
     "output_type": "execute_result"
    }
   ],
   "source": [
    "fit.cluster_centers_"
   ]
  },
  {
   "cell_type": "code",
   "execution_count": 123,
   "metadata": {},
   "outputs": [
    {
     "data": {
      "text/plain": [
       "0.36378107566113238"
      ]
     },
     "execution_count": 123,
     "metadata": {},
     "output_type": "execute_result"
    }
   ],
   "source": [
    "silhouette_score(numerical_copy,labels=fit.labels_)"
   ]
  },
  {
   "cell_type": "code",
   "execution_count": 16,
   "metadata": {
    "collapsed": true
   },
   "outputs": [],
   "source": [
    "from scipy.stats.mstats import normaltest, skewtest,kurtosistest"
   ]
  },
  {
   "cell_type": "code",
   "execution_count": 6,
   "metadata": {},
   "outputs": [
    {
     "data": {
      "text/plain": [
       "NormaltestResult(statistic=masked_array(data = [-- 77.89419159610654 274.341626620409 410.6536426021091 374.02330569249034\n",
       " 546.9039964068575 371.8199326361822 793.2983304166764],\n",
       "             mask = [ True False False False False False False False],\n",
       "       fill_value = 1e+20)\n",
       ", pvalue=array([  2.37259915e-008,   1.21756235e-017,   2.67591739e-060,\n",
       "         6.72503459e-090,   6.05161258e-082,   1.74303503e-119,\n",
       "         1.82107359e-081,   5.46331572e-173]))"
      ]
     },
     "execution_count": 6,
     "metadata": {},
     "output_type": "execute_result"
    }
   ],
   "source": [
    "normaltest(wholesale,axis=0)"
   ]
  },
  {
   "cell_type": "code",
   "execution_count": 7,
   "metadata": {
    "collapsed": true
   },
   "outputs": [],
   "source": [
    "import matplotlib.pyplot as plt\n"
   ]
  },
  {
   "cell_type": "code",
   "execution_count": 13,
   "metadata": {},
   "outputs": [
    {
     "data": {
      "image/png": "[encoded data removed]",
      "text/plain": [
       "<matplotlib.figure.Figure at 0x2360e7af128>"
      ]
     },
     "metadata": {},
     "output_type": "display_data"
    }
   ],
   "source": [
    "plt.hist(wholesale['Fresh'])\n",
    "plt.show()"
   ]
  },
  {
   "cell_type": "code",
   "execution_count": 15,
   "metadata": {},
   "outputs": [
    {
     "data": {
      "text/plain": [
       "SkewtestResult(statistic=13.363200236723891, pvalue=9.920555601203282e-41)"
      ]
     },
     "execution_count": 15,
     "metadata": {},
     "output_type": "execute_result"
    }
   ],
   "source": [
    "skewtest(wholesale['Fresh'])"
   ]
  },
  {
   "cell_type": "code",
   "execution_count": 17,
   "metadata": {},
   "outputs": [
    {
     "data": {
      "text/plain": [
       "KurtosistestResult(statistic=9.7860362789860691, pvalue=1.2926425480613438e-22)"
      ]
     },
     "execution_count": 17,
     "metadata": {},
     "output_type": "execute_result"
    }
   ],
   "source": [
    "kurtosistest(wholesale['Fresh'])"
   ]
  },
  {
   "cell_type": "code",
   "execution_count": 18,
   "metadata": {
    "collapsed": true
   },
   "outputs": [],
   "source": [
    "from sklearn import preprocessing"
   ]
  },
  {
   "cell_type": "code",
   "execution_count": 19,
   "metadata": {
    "scrolled": true
   },
   "outputs": [
    {
     "name": "stderr",
     "output_type": "stream",
     "text": [
      "C:\\Users\\Umang\\Anaconda3\\lib\\site-packages\\sklearn\\utils\\validation.py:475: DataConversionWarning: Data with input dtype int64 was converted to float64 by the scale function.\n",
      "  warnings.warn(msg, DataConversionWarning)\n"
     ]
    }
   ],
   "source": [
    "fresh = preprocessing.scale(wholesale['Fresh'])"
   ]
  },
  {
   "cell_type": "code",
   "execution_count": 33,
   "metadata": {
    "scrolled": true
   },
   "outputs": [
    {
     "data": {
      "text/plain": [
       "array([ 0.05293319, -0.39130197, -0.44702926,  0.10011141,  0.84023948])"
      ]
     },
     "execution_count": 33,
     "metadata": {},
     "output_type": "execute_result"
    }
   ],
   "source": [
    "fresh[:5]"
   ]
  },
  {
   "cell_type": "code",
   "execution_count": 28,
   "metadata": {
    "scrolled": true
   },
   "outputs": [
    {
     "data": {
      "text/plain": [
       "SkewtestResult(statistic=13.363200236723884, pvalue=9.9205556012042771e-41)"
      ]
     },
     "execution_count": 28,
     "metadata": {},
     "output_type": "execute_result"
    }
   ],
   "source": [
    "skewtest(fresh)"
   ]
  },
  {
   "cell_type": "code",
   "execution_count": 31,
   "metadata": {},
   "outputs": [
    {
     "data": {
      "image/png": "[encoded data removed]",
      "text/plain": [
       "<matplotlib.figure.Figure at 0x2360f148470>"
      ]
     },
     "metadata": {},
     "output_type": "display_data"
    }
   ],
   "source": [
    "plt.hist(fresh)\n",
    "plt.show()"
   ]
  },
  {
   "cell_type": "code",
   "execution_count": 25,
   "metadata": {},
   "outputs": [
    {
     "data": {
      "text/plain": [
       "0   -2.422305e-17\n",
       "1   -1.589638e-17\n",
       "2   -6.030530e-17\n",
       "3    1.135455e-17\n",
       "4   -1.917658e-17\n",
       "5   -8.276208e-17\n",
       "dtype: float64"
      ]
     },
     "execution_count": 25,
     "metadata": {},
     "output_type": "execute_result"
    }
   ],
   "source": [
    "mn = numerical.apply(lambda x:x.mean())\n",
    "mn"
   ]
  },
  {
   "cell_type": "code",
   "execution_count": 26,
   "metadata": {},
   "outputs": [
    {
     "data": {
      "text/plain": [
       "0   -0.276760\n",
       "1   -0.294258\n",
       "2   -0.336668\n",
       "3   -0.318804\n",
       "4   -0.433600\n",
       "5   -0.198577\n",
       "dtype: float64"
      ]
     },
     "execution_count": 26,
     "metadata": {},
     "output_type": "execute_result"
    }
   ],
   "source": [
    "md = numerical.apply(lambda x:x.median())\n",
    "md"
   ]
  },
  {
   "cell_type": "code",
   "execution_count": 27,
   "metadata": {},
   "outputs": [
    {
     "data": {
      "text/plain": [
       "0    0.276760\n",
       "1    0.294258\n",
       "2    0.336668\n",
       "3    0.318804\n",
       "4    0.433600\n",
       "5    0.198577\n",
       "dtype: float64"
      ]
     },
     "execution_count": 27,
     "metadata": {},
     "output_type": "execute_result"
    }
   ],
   "source": [
    "mn-md"
   ]
  },
  {
   "cell_type": "code",
   "execution_count": 29,
   "metadata": {},
   "outputs": [
    {
     "data": {
      "text/html": [
       "<div>\n",
       "<style>\n",
       "    .dataframe thead tr:only-child th {\n",
       "        text-align: right;\n",
       "    }\n",
       "\n",
       "    .dataframe thead th {\n",
       "        text-align: left;\n",
       "    }\n",
       "\n",
       "    .dataframe tbody tr th {\n",
       "        vertical-align: top;\n",
       "    }\n",
       "</style>\n",
       "<table border=\"1\" class=\"dataframe\">\n",
       "  <thead>\n",
       "    <tr style=\"text-align: right;\">\n",
       "      <th></th>\n",
       "      <th>0</th>\n",
       "      <th>1</th>\n",
       "      <th>2</th>\n",
       "      <th>3</th>\n",
       "      <th>4</th>\n",
       "      <th>5</th>\n",
       "    </tr>\n",
       "  </thead>\n",
       "  <tbody>\n",
       "    <tr>\n",
       "      <th>count</th>\n",
       "      <td>4.400000e+02</td>\n",
       "      <td>4.400000e+02</td>\n",
       "      <td>4.400000e+02</td>\n",
       "      <td>4.400000e+02</td>\n",
       "      <td>4.400000e+02</td>\n",
       "      <td>4.400000e+02</td>\n",
       "    </tr>\n",
       "    <tr>\n",
       "      <th>mean</th>\n",
       "      <td>-2.422305e-17</td>\n",
       "      <td>-1.589638e-17</td>\n",
       "      <td>-6.030530e-17</td>\n",
       "      <td>1.135455e-17</td>\n",
       "      <td>-1.917658e-17</td>\n",
       "      <td>-8.276208e-17</td>\n",
       "    </tr>\n",
       "    <tr>\n",
       "      <th>std</th>\n",
       "      <td>1.001138e+00</td>\n",
       "      <td>1.001138e+00</td>\n",
       "      <td>1.001138e+00</td>\n",
       "      <td>1.001138e+00</td>\n",
       "      <td>1.001138e+00</td>\n",
       "      <td>1.001138e+00</td>\n",
       "    </tr>\n",
       "    <tr>\n",
       "      <th>min</th>\n",
       "      <td>-9.496831e-01</td>\n",
       "      <td>-7.787951e-01</td>\n",
       "      <td>-8.373344e-01</td>\n",
       "      <td>-6.283430e-01</td>\n",
       "      <td>-6.044165e-01</td>\n",
       "      <td>-5.402644e-01</td>\n",
       "    </tr>\n",
       "    <tr>\n",
       "      <th>25%</th>\n",
       "      <td>-7.023339e-01</td>\n",
       "      <td>-5.783063e-01</td>\n",
       "      <td>-6.108364e-01</td>\n",
       "      <td>-4.804306e-01</td>\n",
       "      <td>-5.511349e-01</td>\n",
       "      <td>-3.964005e-01</td>\n",
       "    </tr>\n",
       "    <tr>\n",
       "      <th>50%</th>\n",
       "      <td>-2.767602e-01</td>\n",
       "      <td>-2.942580e-01</td>\n",
       "      <td>-3.366684e-01</td>\n",
       "      <td>-3.188045e-01</td>\n",
       "      <td>-4.336004e-01</td>\n",
       "      <td>-1.985766e-01</td>\n",
       "    </tr>\n",
       "    <tr>\n",
       "      <th>75%</th>\n",
       "      <td>3.905226e-01</td>\n",
       "      <td>1.890921e-01</td>\n",
       "      <td>2.849105e-01</td>\n",
       "      <td>9.946441e-02</td>\n",
       "      <td>2.184822e-01</td>\n",
       "      <td>1.048598e-01</td>\n",
       "    </tr>\n",
       "    <tr>\n",
       "      <th>max</th>\n",
       "      <td>7.927738e+00</td>\n",
       "      <td>9.183650e+00</td>\n",
       "      <td>8.936528e+00</td>\n",
       "      <td>1.191900e+01</td>\n",
       "      <td>7.967672e+00</td>\n",
       "      <td>1.647845e+01</td>\n",
       "    </tr>\n",
       "  </tbody>\n",
       "</table>\n",
       "</div>"
      ],
      "text/plain": [
       "                  0             1             2             3             4  \\\n",
       "count  4.400000e+02  4.400000e+02  4.400000e+02  4.400000e+02  4.400000e+02   \n",
       "mean  -2.422305e-17 -1.589638e-17 -6.030530e-17  1.135455e-17 -1.917658e-17   \n",
       "std    1.001138e+00  1.001138e+00  1.001138e+00  1.001138e+00  1.001138e+00   \n",
       "min   -9.496831e-01 -7.787951e-01 -8.373344e-01 -6.283430e-01 -6.044165e-01   \n",
       "25%   -7.023339e-01 -5.783063e-01 -6.108364e-01 -4.804306e-01 -5.511349e-01   \n",
       "50%   -2.767602e-01 -2.942580e-01 -3.366684e-01 -3.188045e-01 -4.336004e-01   \n",
       "75%    3.905226e-01  1.890921e-01  2.849105e-01  9.946441e-02  2.184822e-01   \n",
       "max    7.927738e+00  9.183650e+00  8.936528e+00  1.191900e+01  7.967672e+00   \n",
       "\n",
       "                  5  \n",
       "count  4.400000e+02  \n",
       "mean  -8.276208e-17  \n",
       "std    1.001138e+00  \n",
       "min   -5.402644e-01  \n",
       "25%   -3.964005e-01  \n",
       "50%   -1.985766e-01  \n",
       "75%    1.048598e-01  \n",
       "max    1.647845e+01  "
      ]
     },
     "execution_count": 29,
     "metadata": {},
     "output_type": "execute_result"
    }
   ],
   "source": [
    "numerical.describe()"
   ]
  },
  {
   "cell_type": "code",
   "execution_count": 30,
   "metadata": {},
   "outputs": [
    {
     "data": {
      "text/plain": [
       "NormaltestResult(statistic=masked_array(data = [274.34162662040876 410.6536426021092 374.02330569249045 546.9039964068572\n",
       " 371.81993263618233 793.2983304166775],\n",
       "             mask = [False False False False False False],\n",
       "       fill_value = 1e+20)\n",
       ", pvalue=array([  2.67591739e-060,   6.72503459e-090,   6.05161258e-082,\n",
       "         1.74303503e-119,   1.82107359e-081,   5.46331572e-173]))"
      ]
     },
     "execution_count": 30,
     "metadata": {},
     "output_type": "execute_result"
    }
   ],
   "source": [
    "normaltest(numerical,axis=0)"
   ]
  },
  {
   "cell_type": "code",
   "execution_count": 40,
   "metadata": {
    "collapsed": true
   },
   "outputs": [],
   "source": [
    "fresh_sqrt = np.sqrt(wholesale['Fresh'])"
   ]
  },
  {
   "cell_type": "code",
   "execution_count": 42,
   "metadata": {},
   "outputs": [
    {
     "data": {
      "text/plain": [
       "SkewtestResult(statistic=5.3464179581919486, pvalue=8.97119163416385e-08)"
      ]
     },
     "execution_count": 42,
     "metadata": {},
     "output_type": "execute_result"
    }
   ],
   "source": [
    "skewtest(fresh_sqrt)"
   ]
  },
  {
   "cell_type": "code",
   "execution_count": 43,
   "metadata": {},
   "outputs": [
    {
     "data": {
      "image/png": "[encoded data removed]",
      "text/plain": [
       "<matplotlib.figure.Figure at 0x2360eeacb70>"
      ]
     },
     "metadata": {},
     "output_type": "display_data"
    }
   ],
   "source": [
    "plt.hist(fresh_sqrt)\n",
    "plt.show()"
   ]
  },
  {
   "cell_type": "code",
   "execution_count": null,
   "metadata": {
    "collapsed": true
   },
   "outputs": [],
   "source": []
  }
 ],
 "metadata": {
  "kernelspec": {
   "display_name": "Python 3",
   "language": "python",
   "name": "python3"
  },
  "language_info": {
   "codemirror_mode": {
    "name": "ipython",
    "version": 3
   },
   "file_extension": ".py",
   "mimetype": "text/x-python",
   "name": "python",
   "nbconvert_exporter": "python",
   "pygments_lexer": "ipython3",
   "version": "3.6.3"
  }
 },
 "nbformat": 4,
 "nbformat_minor": 2
}
